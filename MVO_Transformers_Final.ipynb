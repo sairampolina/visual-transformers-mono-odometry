{
  "cells": [
    {
      "attachments": {},
      "cell_type": "markdown",
      "metadata": {
        "id": "K4ErHhsWtcp9"
      },
      "source": [
        "# CMSC 472 Final Project: \n",
        "# Monocular Visual Odometry using Dense Prediction Transformers\n"
      ]
    },
    {
      "attachments": {},
      "cell_type": "markdown",
      "metadata": {
        "id": "QAUWkQ3kum9N"
      },
      "source": [
        "### Data loader and Preprocessing\n",
        "\n",
        "This project uses KITTI Visual Odometry Dataset, which can be found at http://www.cvlibs.net/datasets/kitti/eval_odometry.php"
      ]
    },
    {
      "cell_type": "code",
      "execution_count": 33,
      "metadata": {
        "id": "gOJJMJWVJUYN"
      },
      "outputs": [],
      "source": [
        "# !pip install einops\n",
        "# !pip install timm\n",
        "# !pip install wandb"
      ]
    },
    {
      "attachments": {},
      "cell_type": "markdown",
      "metadata": {
        "id": "30eVwQGaWJi9"
      },
      "source": [
        "### Download Custom Depth dataset, NYUv2, inria and posetrack"
      ]
    },
    {
      "attachments": {},
      "cell_type": "markdown",
      "metadata": {
        "id": "psL6NND3WxXg"
      },
      "source": [
        "Run below 2 cells only for the first time"
      ]
    },
    {
      "cell_type": "code",
      "execution_count": 34,
      "metadata": {
        "id": "VLeesXY5Tz3E"
      },
      "outputs": [],
      "source": [
        "# !gdown 1wbDWkn4uyYUe3hGPYoXWQN_MMvGCda-R"
      ]
    },
    {
      "cell_type": "code",
      "execution_count": 35,
      "metadata": {
        "id": "PS7ZRQgZWnZg"
      },
      "outputs": [],
      "source": [
        "# !unzip \"/content/depth_dataset.zip\""
      ]
    },
    {
      "cell_type": "code",
      "execution_count": 36,
      "metadata": {
        "colab": {
          "base_uri": "https://localhost:8080/"
        },
        "id": "J3fwy-sVugcA",
        "outputId": "ba75f118-3afd-458e-bcd4-b4fcf740ae22"
      },
      "outputs": [
        {
          "name": "stderr",
          "output_type": "stream",
          "text": [
            "/tmp/ipykernel_140811/2955035506.py:30: DeprecationWarning: Please use `gaussian_filter` from the `scipy.ndimage` namespace, the `scipy.ndimage.filters` namespace is deprecated.\n",
            "  from scipy.ndimage.filters import gaussian_filter\n"
          ]
        }
      ],
      "source": [
        "import glob\n",
        "import os, errno\n",
        "import cv2\n",
        "import numpy as np\n",
        "import torch\n",
        "import torch.nn as nn\n",
        "from torchvision.transforms import Compose\n",
        "import matplotlib.pyplot as plt\n",
        "import math\n",
        "from einops import rearrange, repeat\n",
        "from einops.layers.torch import Rearrange\n",
        "import timm\n",
        "import wandb\n",
        "from numpy.core.numeric import Inf\n",
        "import glob as glob_module\n",
        "import torch.optim as optim\n",
        "from torch.optim.lr_scheduler import ReduceLROnPlateau\n",
        "from PIL import Image\n",
        "from torchvision import transforms, utils\n",
        "import random\n",
        "from glob import glob\n",
        "from tqdm import tqdm\n",
        "from torch.utils.data.dataloader import default_collate\n",
        "from torch.utils.data import Dataset, DataLoader\n",
        "import torchvision.transforms.functional as TF\n",
        "import json\n",
        "from torch.utils.data import ConcatDataset\n",
        "from sklearn import linear_model\n",
        "from torchvision import transforms\n",
        "from scipy.ndimage.filters import gaussian_filter\n"
      ]
    },
    {
      "cell_type": "code",
      "execution_count": 37,
      "metadata": {
        "id": "tw2M_7Qzva--"
      },
      "outputs": [],
      "source": [
        "class KITTI:\n",
        "    def __init__(self,\n",
        "                 data_path=r\"/dataset/sequences\",\n",
        "                 pose_path=r\"dataset/poses\",\n",
        "                 sequence=\"00\",\n",
        "                 camera_id=\"0\",\n",
        "                 ):\n",
        "        \"\"\"\n",
        "        Dataloader for KITTI Visual Odometry Dataset\n",
        "            http://www.cvlibs.net/datasets/kitti/eval_odometry.php\n",
        "\n",
        "        Arguments:\n",
        "            data_path {str}: path to data sequences\n",
        "            pose_path {str}: path to poses\n",
        "            sequence {str}: sequence to be tested (default: \"00\")\n",
        "        \"\"\"\n",
        "        self.data_path = data_path\n",
        "        self.sequence = sequence\n",
        "        self.camera_id = camera_id\n",
        "        self.frame_id = 0\n",
        "\n",
        "        # Read ground truth poses\n",
        "        with open(os.path.join(pose_path, sequence+\".txt\")) as f:\n",
        "            self.poses = f.readlines()\n",
        "\n",
        "        # Get frames list\n",
        "        frames_dir = os.path.join(data_path, sequence, \"image_{}\".format(camera_id), \"*.png\")\n",
        "        print(frames_dir)\n",
        "        self.frames = sorted(glob_module.glob(frames_dir))\n",
        "\n",
        "        # Camera Parameters\n",
        "        self.cam_params = {}\n",
        "        frame = cv2.imread(self.frames[self.frame_id], 0)\n",
        "        self.cam_params[\"width\"] = frame.shape[0]\n",
        "        self.cam_params[\"height\"] = frame.shape[1]\n",
        "        self.read_intrinsics_param()\n",
        "\n",
        "    def __len__(self):\n",
        "        return len(self.frames)\n",
        "\n",
        "    def get_next_data(self):\n",
        "        \"\"\"\n",
        "        Returns:\n",
        "            frame {ndarray}: image frame at index self.frame_id\n",
        "            pose {list}: list containing the ground truth pose [x, y, z]\n",
        "            frame_id {int}: integer representing the frame index\n",
        "        \"\"\"\n",
        "        # Read frame as grayscale\n",
        "        frame = cv2.imread(self.frames[self.frame_id], 0)\n",
        "        self.cam_params[\"width\"] = frame.shape[0]\n",
        "        self.cam_params[\"height\"] = frame.shape[0]\n",
        "\n",
        "        # Read poses\n",
        "        pose = self.poses[self.frame_id]\n",
        "        pose = pose.strip().split()\n",
        "        pose = [float(pose[3]), float(pose[7]), float(pose[11])]  # coordinates for the left camera\n",
        "        frame_id = self.frame_id\n",
        "        self.frame_id = self.frame_id + 1\n",
        "        return frame, pose, frame_id\n",
        "\n",
        "\n",
        "    def read_intrinsics_param(self):\n",
        "        \"\"\"\n",
        "        Reads camera intrinsics parameters\n",
        "\n",
        "        Returns:\n",
        "            cam_params {dict}: dictionary with focal lenght and principal point\n",
        "        \"\"\"\n",
        "        calib_file = os.path.join(self.data_path, self.sequence, \"calib.txt\")\n",
        "        with open(calib_file, 'r') as f:\n",
        "            lines = f.readlines()\n",
        "            line = lines[int(self.camera_id)].strip().split()\n",
        "            [fx, cx, fy, cy] = [float(line[1]), float(line[3]), float(line[6]), float(line[7])]\n",
        "\n",
        "            # focal length of camera\n",
        "            self.cam_params[\"fx\"] = fx\n",
        "            self.cam_params[\"fy\"] = fy\n",
        "            # principal point (optical center)\n",
        "            self.cam_params[\"cx\"] = cx\n",
        "            self.cam_params[\"cy\"] = cy"
      ]
    },
    {
      "cell_type": "code",
      "execution_count": 38,
      "metadata": {
        "id": "THZuzFmjIX2E"
      },
      "outputs": [],
      "source": [
        "def show(imgs):\n",
        "    fix, axs = plt.subplots(ncols=len(imgs), squeeze=False)\n",
        "    for i, img in enumerate(imgs):\n",
        "        img = transforms.ToPILImage()(img.to('cpu').float())\n",
        "        axs[0, i].imshow(np.asarray(img))\n",
        "        axs[0, i].set(xticklabels=[], yticklabels=[], xticks=[], yticks=[])\n",
        "    plt.show()\n",
        "\n",
        "class DepthDataset(Dataset):\n",
        "    \"\"\"\n",
        "        Dataset class for the Depth Task. Requires for each image, its depth ground-truth and\n",
        "        segmentation mask\n",
        "        Args:\n",
        "            :- config -: json config file\n",
        "            :- dataset_name -: str\n",
        "            :- split -: split ['train', 'val', 'test']\n",
        "    \"\"\"\n",
        "    def __init__(self, config, dataset_name, split=None):\n",
        "        self.split = split\n",
        "        self.config = config\n",
        "\n",
        "        path_images = os.path.join(config['Dataset']['paths']['path_dataset'], dataset_name, config['Dataset']['paths']['path_images'])\n",
        "        path_depths = os.path.join(config['Dataset']['paths']['path_dataset'], dataset_name, config['Dataset']['paths']['path_depths'])\n",
        "\n",
        "        self.paths_images = get_total_paths(path_images, config['Dataset']['extensions']['ext_images'])\n",
        "        self.paths_depths = get_total_paths(path_depths, config['Dataset']['extensions']['ext_depths'])\n",
        "        \n",
        "        assert (self.split in ['train', 'test', 'val']), \"Invalid split!\"\n",
        "        assert (len(self.paths_images) == len(self.paths_depths)), \"Different number of instances between the input and the depth maps\"\n",
        "        assert (config['Dataset']['splits']['split_train'] + config['Dataset']['splits']['split_test'] + config['Dataset']['splits']['split_val'] == 1), \"Invalid splits (sum must be equal to 1)\"\n",
        "\n",
        "        # utility func for splitting\n",
        "        self.paths_images, self.paths_depths = get_splitted_dataset(config, self.split, dataset_name, self.paths_images, self.paths_depths)\n",
        "\n",
        "        # Get the transforms\n",
        "        self.transform_image, self.transform_depth = get_transforms(config)\n",
        "\n",
        "        # get p_flip from config\n",
        "        self.p_flip = config['Dataset']['transforms']['p_flip'] if split=='train' else 0\n",
        "        self.p_crop = config['Dataset']['transforms']['p_crop'] if split=='train' else 0\n",
        "        self.p_rot = config['Dataset']['transforms']['p_rot'] if split=='train' else 0\n",
        "        self.resize = config['Dataset']['transforms']['resize']\n",
        "\n",
        "    def __len__(self):\n",
        "        \"\"\"\n",
        "            Function to get the number of images using the given list of images\n",
        "        \"\"\"\n",
        "        return len(self.paths_images)\n",
        "\n",
        "    def __getitem__(self, idx):\n",
        "        \"\"\"\n",
        "            Getter function in order to get the triplet of images / depth maps and segmentation masks\n",
        "        \"\"\"\n",
        "        if torch.is_tensor(idx):\n",
        "            idx = idx.tolist()\n",
        "        image = self.transform_image(Image.open(self.paths_images[idx]))\n",
        "        depth = self.transform_depth(Image.open(self.paths_depths[idx]))\n",
        "        imgorig = image.clone()\n",
        "\n",
        "        if random.random() < self.p_flip:\n",
        "            image = TF.hflip(image)\n",
        "            depth = TF.hflip(depth)\n",
        "\n",
        "        if random.random() < self.p_crop:\n",
        "            random_size = random.randint(256, self.resize-1)\n",
        "            max_size = self.resize - random_size\n",
        "            left = int(random.random()*max_size)\n",
        "            top = int(random.random()*max_size)\n",
        "            image = TF.crop(image, top, left, random_size, random_size)\n",
        "            depth = TF.crop(depth, top, left, random_size, random_size)\n",
        "            image = transforms.Resize((self.resize, self.resize))(image)\n",
        "            depth = transforms.Resize((self.resize, self.resize))(depth)\n",
        "\n",
        "        if random.random() < self.p_rot:\n",
        "            #rotate\n",
        "            random_angle = random.random()*20 - 10 #[-10 ; 10]\n",
        "            mask = torch.ones((1,self.resize,self.resize)) #useful for the resize at the end\n",
        "            mask = TF.rotate(mask, random_angle, interpolation=transforms.InterpolationMode.BILINEAR)\n",
        "            image = TF.rotate(image, random_angle, interpolation=transforms.InterpolationMode.BILINEAR)\n",
        "            depth = TF.rotate(depth, random_angle, interpolation=transforms.InterpolationMode.BILINEAR)\n",
        "            #crop to remove black borders due to the rotation\n",
        "            left = torch.argmax(mask[:,0,:]).item()\n",
        "            top = torch.argmax(mask[:,:,0]).item()\n",
        "            coin = min(left,top)\n",
        "            size = self.resize - 2*coin\n",
        "            image = TF.crop(image, coin, coin, size, size)\n",
        "            depth = TF.crop(depth, coin, coin, size, size)\n",
        "            #Resize\n",
        "            image = transforms.Resize((self.resize, self.resize))(image)\n",
        "            depth = transforms.Resize((self.resize, self.resize))(depth)\n",
        "        # exit(0)\n",
        "        return image, depth\n"
      ]
    },
    {
      "attachments": {},
      "cell_type": "markdown",
      "metadata": {
        "id": "vVw128wBwXWy"
      },
      "source": [
        "### Camera Model setup"
      ]
    },
    {
      "cell_type": "code",
      "execution_count": 39,
      "metadata": {
        "id": "u-8ODB4-wcBp"
      },
      "outputs": [],
      "source": [
        "class CameraModel(object):\n",
        "    \"\"\"\n",
        "    Class that represents a pin-hole camera model (or projective camera model).\n",
        "    In the pin-hole camera model, light goes through the camera center (cx, cy) before its projection\n",
        "    onto the image plane.\n",
        "    \"\"\"\n",
        "    def __init__(self, params):\n",
        "        \"\"\"\n",
        "        Creates a camera model\n",
        "\n",
        "        Arguments:\n",
        "            params {dict} -- Camera parameters\n",
        "        \"\"\"\n",
        "\n",
        "        # Image resolution\n",
        "        self.width = params['width']\n",
        "        self.height = params['height']\n",
        "        # Focal length of camera\n",
        "        self.fx = params['fx']\n",
        "        self.fy = params['fy']\n",
        "        # Optical center (principal point)\n",
        "        self.cx = params['cx']\n",
        "        self.cy = params['cy']\n",
        "        # Distortion coefficients.\n",
        "        # k1, k2, and k3 are the radial coefficients.\n",
        "        # p1 and p2 are the tangential distortion coefficients.\n",
        "        #self.distortion_coeff = [params['k1'], params['k2'], params['p1'], params['p2'], params['k3']]\n",
        "        self.mat = np.array([\n",
        "                [self.fx, 0, self.cx],\n",
        "                [0, self.fy, self.cy],\n",
        "                [0, 0, 1]])"
      ]
    },
    {
      "attachments": {},
      "cell_type": "markdown",
      "metadata": {
        "id": "Scu7j0yvvbs9"
      },
      "source": [
        "### Dense Estimation model using visual transformers"
      ]
    },
    {
      "attachments": {},
      "cell_type": "markdown",
      "metadata": {
        "id": "f5Qq904uBzKZ"
      },
      "source": [
        "#### Depth Estimation Transformer Model Architecture"
      ]
    },
    {
      "cell_type": "code",
      "execution_count": 40,
      "metadata": {
        "id": "C-uC3M6VDdDZ"
      },
      "outputs": [],
      "source": [
        "class Interpolate(nn.Module):\n",
        "    def __init__(self, scale_factor, mode, align_corners=False):\n",
        "        super(Interpolate, self).__init__()\n",
        "        self.interp = nn.functional.interpolate\n",
        "        self.scale_factor = scale_factor\n",
        "        self.mode = mode\n",
        "        self.align_corners = align_corners\n",
        "\n",
        "    def forward(self, x):\n",
        "        x = self.interp(\n",
        "            x,\n",
        "            scale_factor=self.scale_factor,\n",
        "            mode=self.mode,\n",
        "            align_corners=self.align_corners)\n",
        "        return x\n",
        "\n",
        "class HeadDepth(nn.Module):\n",
        "    def __init__(self, features):\n",
        "        super(HeadDepth, self).__init__()\n",
        "        self.head = nn.Sequential(\n",
        "            nn.Conv2d(features, features // 2, kernel_size=3, stride=1, padding=1),\n",
        "            Interpolate(scale_factor=2, mode=\"bilinear\", align_corners=True),\n",
        "            nn.Conv2d(features // 2, 32, kernel_size=3, stride=1, padding=1),\n",
        "            nn.ReLU(),\n",
        "            nn.Conv2d(32, 1, kernel_size=1, stride=1, padding=0),\n",
        "            # nn.ReLU()\n",
        "            nn.Sigmoid()\n",
        "        )\n",
        "    def forward(self, x):\n",
        "        x = self.head(x)\n",
        "        # x = (x - x.min())/(x.max()-x.min() + 1e-15)\n",
        "        return x\n"
      ]
    },
    {
      "cell_type": "code",
      "execution_count": 41,
      "metadata": {
        "id": "TNrlX6ZXDVpw"
      },
      "outputs": [],
      "source": [
        "class ResidualConvUnit(nn.Module):\n",
        "    def __init__(self, features):\n",
        "        super().__init__()\n",
        "\n",
        "        self.conv1 = nn.Conv2d(\n",
        "            features, features, kernel_size=3, stride=1, padding=1, bias=True)\n",
        "        self.conv2 = nn.Conv2d(\n",
        "            features, features, kernel_size=3, stride=1, padding=1, bias=True)\n",
        "        self.relu = nn.ReLU(inplace=True)\n",
        "\n",
        "    def forward(self, x):\n",
        "        \"\"\"Forward pass.\n",
        "        Args:\n",
        "            x (tensor): input\n",
        "        Returns:\n",
        "            tensor: output\n",
        "        \"\"\"\n",
        "        out = self.relu(x)\n",
        "        out = self.conv1(out)\n",
        "        out = self.relu(out)\n",
        "        out = self.conv2(out)\n",
        "        return out + x\n",
        "\n",
        "class Fusion(nn.Module):\n",
        "    def __init__(self, resample_dim):\n",
        "        super(Fusion, self).__init__()\n",
        "        self.res_conv1 = ResidualConvUnit(resample_dim)\n",
        "        self.res_conv2 = ResidualConvUnit(resample_dim)\n",
        "        #self.resample = nn.ConvTranspose2d(resample_dim, resample_dim, kernel_size=2, stride=2, padding=0, bias=True, dilation=1, groups=1)\n",
        "\n",
        "    def forward(self, x, previous_stage=None):\n",
        "        if previous_stage == None:\n",
        "            previous_stage = torch.zeros_like(x)\n",
        "        output_stage1 = self.res_conv1(x)\n",
        "        output_stage1 += previous_stage\n",
        "        output_stage2 = self.res_conv2(output_stage1)\n",
        "        output_stage2 = nn.functional.interpolate(output_stage2, scale_factor=2, mode=\"bilinear\", align_corners=True)\n",
        "        return output_stage2\n"
      ]
    },
    {
      "cell_type": "code",
      "execution_count": 42,
      "metadata": {
        "id": "CVTp6r9iDFcI"
      },
      "outputs": [],
      "source": [
        "class Read_ignore(nn.Module):\n",
        "    def __init__(self, start_index=1):\n",
        "        super(Read_ignore, self).__init__()\n",
        "        self.start_index = start_index\n",
        "\n",
        "    def forward(self, x):\n",
        "        return x[:, self.start_index:]\n",
        "\n",
        "\n",
        "class Read_add(nn.Module):\n",
        "    def __init__(self, start_index=1):\n",
        "        super(Read_add, self).__init__()\n",
        "        self.start_index = start_index\n",
        "\n",
        "    def forward(self, x):\n",
        "        if self.start_index == 2:\n",
        "            readout = (x[:, 0] + x[:, 1]) / 2\n",
        "        else:\n",
        "            readout = x[:, 0]\n",
        "        return x[:, self.start_index :] + readout.unsqueeze(1)\n",
        "\n",
        "\n",
        "class Read_projection(nn.Module):\n",
        "    def __init__(self, in_features, start_index=1):\n",
        "        super(Read_projection, self).__init__()\n",
        "        self.start_index = start_index\n",
        "        self.project = nn.Sequential(nn.Linear(2 * in_features, in_features), nn.GELU())\n",
        "\n",
        "    def forward(self, x):\n",
        "        readout = x[:, 0].unsqueeze(1).expand_as(x[:, self.start_index :])\n",
        "        features = torch.cat((x[:, self.start_index :], readout), -1)\n",
        "        return self.project(features)\n",
        "\n",
        "class MyConvTranspose2d(nn.Module):\n",
        "    def __init__(self, conv, output_size):\n",
        "        super(MyConvTranspose2d, self).__init__()\n",
        "        self.output_size = output_size\n",
        "        self.conv = conv\n",
        "\n",
        "    def forward(self, x):\n",
        "        x = self.conv(x, output_size=self.output_size)\n",
        "        return x\n",
        "\n",
        "class Resample(nn.Module):\n",
        "    def __init__(self, p, s, h, emb_dim, resample_dim):\n",
        "        super(Resample, self).__init__()\n",
        "        assert (s in [4, 8, 16, 32]), \"s must be in [0.5, 4, 8, 16, 32]\"\n",
        "        self.conv1 = nn.Conv2d(emb_dim, resample_dim, kernel_size=1, stride=1, padding=0)\n",
        "        if s == 4:\n",
        "            self.conv2 = nn.ConvTranspose2d(resample_dim,\n",
        "                                resample_dim,\n",
        "                                kernel_size=4,\n",
        "                                stride=4,\n",
        "                                padding=0,\n",
        "                                bias=True,\n",
        "                                dilation=1,\n",
        "                                groups=1)\n",
        "        elif s == 8:\n",
        "            self.conv2 = nn.ConvTranspose2d(resample_dim,\n",
        "                                resample_dim,\n",
        "                                kernel_size=2,\n",
        "                                stride=2,\n",
        "                                padding=0,\n",
        "                                bias=True,\n",
        "                                dilation=1,\n",
        "                                groups=1)\n",
        "        elif s == 16:\n",
        "            self.conv2 = nn.Identity()\n",
        "        else:\n",
        "            self.conv2 = nn.Conv2d(resample_dim, resample_dim, kernel_size=2,stride=2, padding=0, bias=True)\n",
        "\n",
        "    def forward(self, x):\n",
        "        x = self.conv1(x)\n",
        "        x = self.conv2(x)\n",
        "        return x\n",
        "\n",
        "class Reassemble(nn.Module):\n",
        "    def __init__(self, image_size, read, p, s, emb_dim, resample_dim):\n",
        "        \"\"\"\n",
        "        p = patch size\n",
        "        s = coefficient resample\n",
        "        emb_dim <=> D (in the paper)\n",
        "        resample_dim <=> ^D (in the paper)\n",
        "        read : {\"ignore\", \"add\", \"projection\"}\n",
        "        \"\"\"\n",
        "        super(Reassemble, self).__init__()\n",
        "        channels, image_height, image_width = image_size\n",
        "\n",
        "        #Read\n",
        "        self.read = Read_ignore()\n",
        "        if read == 'add':\n",
        "            self.read = Read_add()\n",
        "        elif read == 'projection':\n",
        "            self.read = Read_projection(emb_dim)\n",
        "\n",
        "        #Concat after read\n",
        "        self.concat = Rearrange('b (h w) c -> b c h w',\n",
        "                                c=emb_dim,\n",
        "                                h=(image_height // p),\n",
        "                                w=(image_width // p))\n",
        "\n",
        "        #Projection + Resample\n",
        "        self.resample = Resample(p, s, image_height, emb_dim, resample_dim)\n",
        "\n",
        "    def forward(self, x):\n",
        "        x = self.read(x)\n",
        "        x = self.concat(x)\n",
        "        x = self.resample(x)\n",
        "        return x\n"
      ]
    },
    {
      "cell_type": "code",
      "execution_count": 43,
      "metadata": {
        "id": "-C-XL67lycDk"
      },
      "outputs": [],
      "source": [
        "torch.manual_seed(0)\n",
        "\n",
        "class DepthTransformerModel(nn.Module):\n",
        "    def __init__(self,\n",
        "                 image_size         = (3, 384, 384),\n",
        "                 patch_size         = 16,\n",
        "                 emb_dim            = 1024,\n",
        "                 resample_dim       = 256,\n",
        "                 read               = 'projection',\n",
        "                 num_layers_encoder = 24,\n",
        "                 hooks              = [5, 11, 17, 23],\n",
        "                 reassemble_s       = [4, 8, 16, 32],\n",
        "                 transformer_dropout= 0,\n",
        "                 nclasses           = 2,\n",
        "                 type               = \"depth\",\n",
        "                 model_timm         = \"vit_large_patch16_384\"):\n",
        "        \"\"\"\n",
        "        Depth Transformer Model\n",
        "        type : {\"depth\"}\n",
        "        image_size : (c, h, w)\n",
        "        patch_size : *a square*\n",
        "        emb_dim <=> D (in the paper)\n",
        "        resample_dim <=> ^D (in the paper)\n",
        "        read : {\"ignore\", \"add\", \"projection\"}\n",
        "        \"\"\"\n",
        "        super().__init__()\n",
        "\n",
        "        self.transformer_encoders = timm.create_model(model_timm, pretrained=True)\n",
        "        self.type_ = type\n",
        "\n",
        "        #Register hooks\n",
        "        self.activation = {}\n",
        "        self.hooks = hooks\n",
        "        self._get_layers_from_hooks(self.hooks)\n",
        "\n",
        "        #Reassembles Fusion\n",
        "        self.reassembles = []\n",
        "        self.fusions = []\n",
        "        for s in reassemble_s:\n",
        "            self.reassembles.append(Reassemble(image_size, read, patch_size, s, emb_dim, resample_dim))\n",
        "            self.fusions.append(Fusion(resample_dim))\n",
        "        self.reassembles = nn.ModuleList(self.reassembles)\n",
        "        self.fusions = nn.ModuleList(self.fusions)\n",
        "\n",
        "        #Head\n",
        "        if type == \"depth\":\n",
        "            self.head_depth = HeadDepth(resample_dim)\n",
        "\n",
        "    def forward(self, img):\n",
        "\n",
        "        t = self.transformer_encoders(img)\n",
        "        previous_stage = None\n",
        "        for i in np.arange(len(self.fusions)-1, -1, -1):\n",
        "            hook_to_take = 't'+str(self.hooks[i])\n",
        "            activation_result = self.activation[hook_to_take]\n",
        "            reassemble_result = self.reassembles[i](activation_result)\n",
        "            fusion_result = self.fusions[i](reassemble_result, previous_stage)\n",
        "            previous_stage = fusion_result\n",
        "        out_depth = None\n",
        "        if self.head_depth != None:\n",
        "            out_depth = self.head_depth(previous_stage)\n",
        "        return out_depth\n",
        "\n",
        "    def _get_layers_from_hooks(self, hooks):\n",
        "        def get_activation(name):\n",
        "            def hook(model, input, output):\n",
        "                self.activation[name] = output\n",
        "            return hook\n",
        "        for h in hooks:\n",
        "            self.transformer_encoders.blocks[h].register_forward_hook(get_activation('t'+str(h)))"
      ]
    },
    {
      "cell_type": "code",
      "execution_count": 44,
      "metadata": {
        "id": "8rh6igG0DwEW"
      },
      "outputs": [],
      "source": [
        "\n",
        "def get_total_paths(path, ext):\n",
        "    return glob(os.path.join(path, '*'+ext))\n",
        "\n",
        "def get_splitted_dataset(config, split, dataset_name, path_images, path_depths):\n",
        "    list_files = [os.path.basename(im) for im in path_images]\n",
        "    np.random.seed(config['General']['seed'])\n",
        "    np.random.shuffle(list_files)\n",
        "    if split == 'train':\n",
        "        selected_files = list_files[:int(len(list_files)*config['Dataset']['splits']['split_train'])]\n",
        "    elif split == 'val':\n",
        "        selected_files = list_files[int(len(list_files)*config['Dataset']['splits']['split_train']):int(len(list_files)*config['Dataset']['splits']['split_train'])+int(len(list_files)*config['Dataset']['splits']['split_val'])]\n",
        "    else:\n",
        "        selected_files = list_files[int(len(list_files)*config['Dataset']['splits']['split_train'])+int(len(list_files)*config['Dataset']['splits']['split_val']):]\n",
        "\n",
        "    path_images = [os.path.join(config['Dataset']['paths']['path_dataset'], dataset_name, config['Dataset']['paths']['path_images'], im[:-4]+config['Dataset']['extensions']['ext_images']) for im in selected_files]\n",
        "    path_depths = [os.path.join(config['Dataset']['paths']['path_dataset'], dataset_name, config['Dataset']['paths']['path_depths'], im[:-4]+config['Dataset']['extensions']['ext_depths']) for im in selected_files]\n",
        "    # path_segmentation = [os.path.join(config['Dataset']['paths']['path_dataset'], dataset_name, config['Dataset']['paths']['path_segmentations'], im[:-4]+config['Dataset']['extensions']['ext_segmentations']) for im in selected_files]\n",
        "    return path_images, path_depths\n",
        "\n",
        "def get_transforms(config):\n",
        "    im_size = config['Dataset']['transforms']['resize']\n",
        "    transform_image = transforms.Compose([\n",
        "        transforms.Resize((im_size, im_size)),\n",
        "        transforms.ToTensor(),\n",
        "        transforms.Normalize(mean=[0.5, 0.5, 0.5], std=[0.5, 0.5, 0.5])\n",
        "    ])\n",
        "    transform_depth = transforms.Compose([\n",
        "        transforms.Resize((im_size, im_size)),\n",
        "        transforms.Grayscale(num_output_channels=1) ,\n",
        "        transforms.ToTensor()\n",
        "    ])\n",
        "    return transform_image, transform_depth\n",
        "\n",
        "def get_losses(config):\n",
        "    def NoneFunction(a, b):\n",
        "        return 0\n",
        "    loss_depth = NoneFunction\n",
        "    type = config['General']['type']\n",
        "    if type==\"depth\":\n",
        "        if config['General']['loss_depth'] == 'mse':\n",
        "            loss_depth = nn.MSELoss()\n",
        "        elif config['General']['loss_depth'] == 'ssi':\n",
        "            loss_depth = ScaleAndShiftInvariantLoss()\n",
        "    return loss_depth\n",
        "\n",
        "def create_dir(directory):\n",
        "    try:\n",
        "        os.makedirs(directory)\n",
        "    except OSError as e:\n",
        "        if e.errno != errno.EEXIST:\n",
        "            raise\n",
        "\n",
        "def get_optimizer(config, net):\n",
        "    names = set([name.split('.')[0] for name, _ in net.named_modules()]) - set(['', 'transformer_encoders'])\n",
        "    params_backbone = net.transformer_encoders.parameters()\n",
        "    params_scratch = list()\n",
        "    for name in names:\n",
        "        params_scratch += list(eval(\"net.\"+name).parameters())\n",
        "\n",
        "    if config['General']['optim'] == 'adam':\n",
        "        optimizer_backbone = optim.Adam(params_backbone, lr=config['General']['lr_backbone'])\n",
        "        optimizer_scratch = optim.Adam(params_scratch, lr=config['General']['lr_scratch'])\n",
        "    elif config['General']['optim'] == 'sgd':\n",
        "        optimizer_backbone = optim.SGD(params_backbone, lr=config['General']['lr_backbone'], momentum=config['General']['momentum'])\n",
        "        optimizer_scratch = optim.SGD(params_scratch, lr=config['General']['lr_scratch'], momentum=config['General']['momentum'])\n",
        "    return optimizer_backbone, optimizer_scratch\n",
        "\n",
        "def get_schedulers(optimizers):\n",
        "    return [ReduceLROnPlateau(optimizer) for optimizer in optimizers]\n"
      ]
    },
    {
      "cell_type": "code",
      "execution_count": 45,
      "metadata": {
        "id": "j2OM4l2rDl4g"
      },
      "outputs": [],
      "source": [
        "def compute_scale_and_shift(prediction, target, mask):\n",
        "    # system matrix: A = [[a_00, a_01], [a_10, a_11]]\n",
        "    a_00 = torch.sum(mask * prediction * prediction, (1, 2))\n",
        "    a_01 = torch.sum(mask * prediction, (1, 2))\n",
        "    a_11 = torch.sum(mask, (1, 2))\n",
        "\n",
        "    # right hand side: b = [b_0, b_1]\n",
        "    b_0 = torch.sum(mask * prediction * target, (1, 2))\n",
        "    b_1 = torch.sum(mask * target, (1, 2))\n",
        "\n",
        "    # solution: x = A^-1 . b = [[a_11, -a_01], [-a_10, a_00]] / (a_00 * a_11 - a_01 * a_10) . b\n",
        "    x_0 = torch.zeros_like(b_0)\n",
        "    x_1 = torch.zeros_like(b_1)\n",
        "\n",
        "    det = a_00 * a_11 - a_01 * a_01\n",
        "    valid = det.nonzero()\n",
        "\n",
        "    x_0[valid] = (a_11[valid] * b_0[valid] - a_01[valid] * b_1[valid]) / det[valid]\n",
        "    x_1[valid] = (-a_01[valid] * b_0[valid] + a_00[valid] * b_1[valid]) / det[valid]\n",
        "\n",
        "    return x_0, x_1\n",
        "\n",
        "\n",
        "def reduction_batch_based(image_loss, M):\n",
        "    # average of all valid pixels of the batch\n",
        "\n",
        "    # avoid division by 0 (if sum(M) = sum(sum(mask)) = 0: sum(image_loss) = 0)\n",
        "    divisor = torch.sum(M)\n",
        "\n",
        "    if divisor == 0:\n",
        "        return 0\n",
        "    else:\n",
        "        return torch.sum(image_loss) / divisor\n",
        "\n",
        "\n",
        "def reduction_image_based(image_loss, M):\n",
        "    # mean of average of valid pixels of an image\n",
        "\n",
        "    # avoid division by 0 (if M = sum(mask) = 0: image_loss = 0)\n",
        "    valid = M.nonzero()\n",
        "\n",
        "    image_loss[valid] = image_loss[valid] / M[valid]\n",
        "\n",
        "    return torch.mean(image_loss)\n",
        "\n",
        "\n",
        "def mse_loss(prediction, target, mask, reduction=reduction_batch_based):\n",
        "\n",
        "    M = torch.sum(mask, (1, 2))\n",
        "    res = prediction - target\n",
        "    image_loss = torch.sum(mask * res * res, (1, 2))\n",
        "\n",
        "    return reduction(image_loss, 2 * M)\n",
        "\n",
        "\n",
        "def gradient_loss(prediction, target, mask, reduction=reduction_batch_based):\n",
        "\n",
        "    M = torch.sum(mask, (1, 2))\n",
        "\n",
        "    diff = prediction - target\n",
        "    diff = torch.mul(mask, diff)\n",
        "\n",
        "    grad_x = torch.abs(diff[:, :, 1:] - diff[:, :, :-1])\n",
        "    mask_x = torch.mul(mask[:, :, 1:], mask[:, :, :-1])\n",
        "    grad_x = torch.mul(mask_x, grad_x)\n",
        "\n",
        "    grad_y = torch.abs(diff[:, 1:, :] - diff[:, :-1, :])\n",
        "    mask_y = torch.mul(mask[:, 1:, :], mask[:, :-1, :])\n",
        "    grad_y = torch.mul(mask_y, grad_y)\n",
        "\n",
        "    image_loss = torch.sum(grad_x, (1, 2)) + torch.sum(grad_y, (1, 2))\n",
        "\n",
        "    return reduction(image_loss, M)\n",
        "\n",
        "\n",
        "class MSELoss(nn.Module):\n",
        "    def __init__(self, reduction='batch-based'):\n",
        "        super().__init__()\n",
        "\n",
        "        if reduction == 'batch-based':\n",
        "            self.__reduction = reduction_batch_based\n",
        "        else:\n",
        "            self.__reduction = reduction_image_based\n",
        "\n",
        "    def forward(self, prediction, target, mask):\n",
        "        return mse_loss(prediction, target, mask, reduction=self.__reduction)\n",
        "\n",
        "\n",
        "class GradientLoss(nn.Module):\n",
        "    def __init__(self, scales=4, reduction='batch-based'):\n",
        "        super().__init__()\n",
        "\n",
        "        if reduction == 'batch-based':\n",
        "            self.__reduction = reduction_batch_based\n",
        "        else:\n",
        "            self.__reduction = reduction_image_based\n",
        "\n",
        "        self.__scales = scales\n",
        "\n",
        "    def forward(self, prediction, target, mask):\n",
        "        total = 0\n",
        "\n",
        "        for scale in range(self.__scales):\n",
        "            step = pow(2, scale)\n",
        "\n",
        "            total += gradient_loss(prediction[:, ::step, ::step], target[:, ::step, ::step],\n",
        "                                   mask[:, ::step, ::step], reduction=self.__reduction)\n",
        "\n",
        "        return total\n",
        "\n",
        "\n",
        "class ScaleAndShiftInvariantLoss(nn.Module):\n",
        "    def __init__(self, alpha=0.5, scales=4, reduction='batch-based'):\n",
        "        super().__init__()\n",
        "\n",
        "        self.__data_loss = MSELoss(reduction=reduction)\n",
        "        self.__regularization_loss = GradientLoss(scales=scales, reduction=reduction)\n",
        "        self.__alpha = alpha\n",
        "\n",
        "        self.__prediction_ssi = None\n",
        "\n",
        "    def forward(self, prediction, target):\n",
        "        #preprocessing\n",
        "        mask = target > 0\n",
        "\n",
        "        #calcul\n",
        "        scale, shift = compute_scale_and_shift(prediction, target, mask)\n",
        "        # print(scale, shift)\n",
        "        self.__prediction_ssi = scale.view(-1, 1, 1) * prediction + shift.view(-1, 1, 1)\n",
        "\n",
        "        total = self.__data_loss(self.__prediction_ssi, target, mask)\n",
        "        if self.__alpha > 0:\n",
        "            total += self.__alpha * self.__regularization_loss(self.__prediction_ssi, target, mask)\n",
        "\n",
        "        return total\n",
        "\n",
        "    def __get_prediction_ssi(self):\n",
        "        return self.__prediction_ssi\n",
        "\n",
        "    prediction_ssi = property(__get_prediction_ssi)\n"
      ]
    },
    {
      "cell_type": "code",
      "execution_count": 85,
      "metadata": {
        "id": "hmxHZiFeDomw"
      },
      "outputs": [],
      "source": [
        "\n",
        "\n",
        "class Predictor(object):\n",
        "    def __init__(self, config, input_images, frame):\n",
        "        self.input_images = input_images\n",
        "        self.config = config\n",
        "        self.type = self.config['General']['type']\n",
        "        self.frame = frame\n",
        "\n",
        "        self.device = torch.device(self.config['General']['device'] if torch.cuda.is_available() else \"cpu\")\n",
        "        print(\"device: %s\" % self.device)\n",
        "        resize = config['Dataset']['transforms']['resize']\n",
        "        self.model = DepthTransformerModel(\n",
        "                    image_size  =   (3,resize,resize),\n",
        "                    emb_dim     =   config['General']['emb_dim'],\n",
        "                    resample_dim=   config['General']['resample_dim'],\n",
        "                    read        =   config['General']['read'],\n",
        "                    nclasses    =   len(config['Dataset']['classes']) + 1,\n",
        "                    hooks       =   config['General']['hooks'],\n",
        "                    model_timm  =   config['General']['model_timm'],\n",
        "                    type        =   self.type,\n",
        "                    patch_size  =   config['General']['patch_size'],\n",
        "        )\n",
        "        # path_model = os.path.join(config['General']['path_model'], 'DepthTransformerModel_{}.p'.format(config['General']['model_timm']))\n",
        "        path_model = os.path.join('models/FocusOnDepth_vit_base_patch16_384.p')\n",
        "        self.model.load_state_dict(\n",
        "            torch.load(path_model, map_location=self.device)['model_state_dict'], strict=False\n",
        "        )\n",
        "        self.model.eval()\n",
        "        self.transform_image = transforms.Compose([\n",
        "            transforms.Resize((resize, resize)),\n",
        "            transforms.ToTensor(),\n",
        "            transforms.Normalize(mean=[0.5, 0.5, 0.5], std=[0.5, 0.5, 0.5])\n",
        "        ])\n",
        "        self.output_dir = self.config['General']['path_predicted_images']\n",
        "        create_dir(self.output_dir)\n",
        "\n",
        "    def run(self):\n",
        "        with torch.no_grad():\n",
        "            for images in self.input_images:\n",
        "                pil_im = Image.open(images).convert(\"RGB\")\n",
        "                original_size = pil_im.size\n",
        "                tensor_im = self.transform_image(pil_im).unsqueeze(0)\n",
        "                output_depth = self.model(tensor_im)\n",
        "                output_depth = 1-output_depth\n",
        "                output_depth = transforms.ToPILImage()(output_depth.squeeze(0).float()).resize(original_size, resample=Image.BICUBIC)\n",
        "                path_dir_depths = os.path.join(self.output_dir, 'depths')\n",
        "                create_dir(path_dir_depths)\n",
        "                output_depth.save(os.path.join(path_dir_depths, os.path.basename(images)))\n",
        "\n",
        "    def get_depth(self):\n",
        "        with torch.no_grad():\n",
        "            # Convert the NumPy array to a PIL Image\n",
        "            # Convert the single-channel image to a 3-channel image by duplicating the channels\n",
        "            three_channel_frame = np.stack((self.frame,) * 3, axis=-1)\n",
        "            pil_frame = Image.fromarray(three_channel_frame)\n",
        "\n",
        "            \n",
        "            # Get the original size of the frame\n",
        "            original_size = pil_frame.size\n",
        "            \n",
        "            # Transform the frame and get the depth and segmentation output\n",
        "            tensor_im = self.transform_image(pil_frame).unsqueeze(0)\n",
        "            output_depth = self.model(tensor_im)\n",
        "            output_depth = 1 - output_depth\n",
        "            \n",
        "            # Convert the output depth tensor back to a PIL Image and resize it to the original size\n",
        "            output_depth = transforms.ToPILImage()(output_depth.squeeze(0).float()).resize(original_size, resample=Image.BICUBIC)\n",
        "            return output_depth\n",
        "\n"
      ]
    },
    {
      "attachments": {},
      "cell_type": "markdown",
      "metadata": {
        "id": "xTvVJE4fAIvh"
      },
      "source": [
        "#### Train the Depth Estimation Transformer Model"
      ]
    },
    {
      "cell_type": "code",
      "execution_count": 47,
      "metadata": {
        "id": "81rJGplEAgbT"
      },
      "outputs": [],
      "source": [
        "class Trainer(object):\n",
        "    def __init__(self, config):\n",
        "        super().__init__()\n",
        "        self.config = config\n",
        "        self.type = self.config['General']['type']\n",
        "\n",
        "        self.device = torch.device(self.config['General']['device'] if torch.cuda.is_available() else \"cpu\")\n",
        "        print(\"device: %s\" % self.device)\n",
        "        resize = config['Dataset']['transforms']['resize']\n",
        "        self.model = DepthTransformerModel(\n",
        "                    image_size  =   (3,resize,resize),\n",
        "                    emb_dim     =   config['General']['emb_dim'],\n",
        "                    resample_dim=   config['General']['resample_dim'],\n",
        "                    read        =   config['General']['read'],\n",
        "                    nclasses    =   len(config['Dataset']['classes']) + 1,\n",
        "                    hooks       =   config['General']['hooks'],\n",
        "                    model_timm  =   config['General']['model_timm'],\n",
        "                    type        =   self.type,\n",
        "                    patch_size  =   config['General']['patch_size'],\n",
        "        )\n",
        "\n",
        "        self.model.to(self.device)\n",
        "        # print(self.model)\n",
        "        # exit(0)\n",
        "\n",
        "        self.loss_depth = get_losses(config)\n",
        "        self.optimizer_backbone, self.optimizer_scratch = get_optimizer(config, self.model)\n",
        "        self.schedulers = get_schedulers([self.optimizer_backbone, self.optimizer_scratch])\n",
        "\n",
        "    def train(self, train_dataloader, val_dataloader):\n",
        "        epochs = self.config['General']['epochs']\n",
        "        val_loss = Inf\n",
        "        for epoch in range(epochs):  # loop over the dataset multiple times\n",
        "            print(\"Epoch \", epoch+1)\n",
        "            running_loss = 0.0\n",
        "            self.model.train()\n",
        "            pbar = tqdm(train_dataloader)\n",
        "            pbar.set_description(\"Training\")\n",
        "            for i, (X, Y_depths) in enumerate(pbar):\n",
        "                # get the inputs; data is a list of [inputs, labels]\n",
        "                X, Y_depths = X.to(self.device), Y_depths.to(self.device)\n",
        "                # zero the parameter gradients\n",
        "                self.optimizer_backbone.zero_grad()\n",
        "                self.optimizer_scratch.zero_grad()\n",
        "                # forward + backward + optimizer\n",
        "                output_depths = self.model(X)\n",
        "                output_depths = output_depths.squeeze(1) if output_depths != None else None\n",
        "\n",
        "                Y_depths = Y_depths.squeeze(1) #1xHxW -> HxW\n",
        "                # Y_segmentations = Y_segmentations.squeeze(1) #1xHxW -> HxW\n",
        "                # get loss\n",
        "                loss = self.loss_depth(output_depths, Y_depths)\n",
        "                loss.backward()\n",
        "                # step optimizer\n",
        "                self.optimizer_scratch.step()\n",
        "                self.optimizer_backbone.step()\n",
        "\n",
        "                running_loss += loss.item()\n",
        "                if np.isnan(running_loss):\n",
        "                    print('\\n',\n",
        "                        X.min().item(), X.max().item(),'\\n',\n",
        "                        Y_depths.min().item(), Y_depths.max().item(),'\\n',\n",
        "                        output_depths.min().item(), output_depths.max().item(),'\\n',\n",
        "                        loss.item(),\n",
        "                    )\n",
        "                    exit(0)\n",
        "\n",
        "                pbar.set_postfix({'training_loss': running_loss/(i+1)})\n",
        "\n",
        "            new_val_loss = self.run_eval(val_dataloader)\n",
        "\n",
        "            if new_val_loss < val_loss:\n",
        "                self.save_model()\n",
        "                val_loss = new_val_loss\n",
        "\n",
        "            self.schedulers[0].step(new_val_loss)\n",
        "            self.schedulers[1].step(new_val_loss)\n",
        "\n",
        "        print('Finished Training')\n",
        "\n",
        "    def run_eval(self, val_dataloader):\n",
        "        \"\"\"\n",
        "            Evaluate the model on the validation set and visualize some results\n",
        "            on wandb\n",
        "            :- val_dataloader -: torch dataloader\n",
        "        \"\"\"\n",
        "        val_loss = 0.\n",
        "        self.model.eval()\n",
        "        X_1 = None\n",
        "        Y_depths_1 = None\n",
        "        Y_segmentations_1 = None\n",
        "        output_depths_1 = None\n",
        "        output_segmentations_1 = None\n",
        "        with torch.no_grad():\n",
        "            pbar = tqdm(val_dataloader)\n",
        "            pbar.set_description(\"Validation\")\n",
        "            for i, (X, Y_depths) in enumerate(pbar):\n",
        "                X, Y_depths= X.to(self.device), Y_depths.to(self.device)\n",
        "                output_depths = self.model(X)\n",
        "                output_depths = output_depths.squeeze(1) if output_depths != None else None\n",
        "                Y_depths = Y_depths.squeeze(1)\n",
        "                if i==0:\n",
        "                    X_1 = X\n",
        "                    Y_depths_1 = Y_depths\n",
        "                    output_depths_1 = output_depths\n",
        "                # get loss\n",
        "                loss = self.loss_depth(output_depths, Y_depths)\n",
        "                val_loss += loss.item()\n",
        "                pbar.set_postfix({'validation_loss': val_loss/(i+1)})\n",
        "\n",
        "        return val_loss/(i+1)\n",
        "\n",
        "    def save_model(self):\n",
        "        path_model = os.path.join(self.config['General']['path_model'], self.model.__class__.__name__)\n",
        "        create_dir(path_model)\n",
        "        torch.save({'model_state_dict': self.model.state_dict(),\n",
        "                    'optimizer_backbone_state_dict': self.optimizer_backbone.state_dict(),\n",
        "                    'optimizer_scratch_state_dict': self.optimizer_scratch.state_dict()\n",
        "                    }, path_model+'.p')\n",
        "        print('Model saved at : {}'.format(path_model))\n"
      ]
    },
    {
      "attachments": {},
      "cell_type": "markdown",
      "metadata": {
        "id": "lUBAGMtOVNPX"
      },
      "source": [
        "#### Run Train"
      ]
    },
    {
      "cell_type": "code",
      "execution_count": 48,
      "metadata": {
        "colab": {
          "base_uri": "https://localhost:8080/"
        },
        "id": "qmwaeWFHtZud",
        "outputId": "9d25be59-44f2-4fbe-a26c-dae08f90ac14"
      },
      "outputs": [
        {
          "name": "stdout",
          "output_type": "stream",
          "text": [
            "device: cuda\n",
            "Epoch  1\n"
          ]
        },
        {
          "name": "stderr",
          "output_type": "stream",
          "text": [
            "Training: 100%|██████████| 3175/3175 [08:10<00:00,  6.47it/s, training_loss=0.022] \n",
            "Validation: 100%|██████████| 793/793 [00:41<00:00, 19.31it/s, validation_loss=0.0132]\n"
          ]
        },
        {
          "name": "stdout",
          "output_type": "stream",
          "text": [
            "Model saved at : models/DepthTransformerModel\n",
            "Epoch  2\n"
          ]
        },
        {
          "name": "stderr",
          "output_type": "stream",
          "text": [
            "Training: 100%|██████████| 3175/3175 [08:15<00:00,  6.41it/s, training_loss=0.0121]\n",
            "Validation: 100%|██████████| 793/793 [00:41<00:00, 19.30it/s, validation_loss=0.011] \n"
          ]
        },
        {
          "name": "stdout",
          "output_type": "stream",
          "text": [
            "Model saved at : models/DepthTransformerModel\n",
            "Epoch  3\n"
          ]
        },
        {
          "name": "stderr",
          "output_type": "stream",
          "text": [
            "Training: 100%|██████████| 3175/3175 [08:16<00:00,  6.40it/s, training_loss=0.00914]\n",
            "Validation: 100%|██████████| 793/793 [00:41<00:00, 19.34it/s, validation_loss=0.00949]\n"
          ]
        },
        {
          "name": "stdout",
          "output_type": "stream",
          "text": [
            "Model saved at : models/DepthTransformerModel\n",
            "Epoch  4\n"
          ]
        },
        {
          "name": "stderr",
          "output_type": "stream",
          "text": [
            "Training: 100%|██████████| 3175/3175 [08:10<00:00,  6.47it/s, training_loss=0.00789]\n",
            "Validation: 100%|██████████| 793/793 [00:39<00:00, 20.22it/s, validation_loss=0.00968]\n"
          ]
        },
        {
          "name": "stdout",
          "output_type": "stream",
          "text": [
            "Epoch  5\n"
          ]
        },
        {
          "name": "stderr",
          "output_type": "stream",
          "text": [
            "Training: 100%|██████████| 3175/3175 [08:02<00:00,  6.58it/s, training_loss=0.00643]\n",
            "Validation: 100%|██████████| 793/793 [00:41<00:00, 19.32it/s, validation_loss=0.00963]\n"
          ]
        },
        {
          "name": "stdout",
          "output_type": "stream",
          "text": [
            "Epoch  6\n"
          ]
        },
        {
          "name": "stderr",
          "output_type": "stream",
          "text": [
            "Training: 100%|██████████| 3175/3175 [08:00<00:00,  6.61it/s, training_loss=0.00575]\n",
            "Validation: 100%|██████████| 793/793 [00:41<00:00, 18.99it/s, validation_loss=0.00914]\n"
          ]
        },
        {
          "name": "stdout",
          "output_type": "stream",
          "text": [
            "Model saved at : models/DepthTransformerModel\n",
            "Epoch  7\n"
          ]
        },
        {
          "name": "stderr",
          "output_type": "stream",
          "text": [
            "Training: 100%|██████████| 3175/3175 [07:58<00:00,  6.63it/s, training_loss=0.00507]\n",
            "Validation: 100%|██████████| 793/793 [00:41<00:00, 19.20it/s, validation_loss=0.00834]\n"
          ]
        },
        {
          "name": "stdout",
          "output_type": "stream",
          "text": [
            "Model saved at : models/DepthTransformerModel\n",
            "Epoch  8\n"
          ]
        },
        {
          "name": "stderr",
          "output_type": "stream",
          "text": [
            "Training: 100%|██████████| 3175/3175 [08:05<00:00,  6.53it/s, training_loss=0.00475]\n",
            "Validation: 100%|██████████| 793/793 [00:41<00:00, 19.18it/s, validation_loss=0.00772]\n"
          ]
        },
        {
          "name": "stdout",
          "output_type": "stream",
          "text": [
            "Model saved at : models/DepthTransformerModel\n",
            "Epoch  9\n"
          ]
        },
        {
          "name": "stderr",
          "output_type": "stream",
          "text": [
            "Training: 100%|██████████| 3175/3175 [08:15<00:00,  6.41it/s, training_loss=0.00437]\n",
            "Validation: 100%|██████████| 793/793 [00:40<00:00, 19.50it/s, validation_loss=0.00791]\n"
          ]
        },
        {
          "name": "stdout",
          "output_type": "stream",
          "text": [
            "Epoch  10\n"
          ]
        },
        {
          "name": "stderr",
          "output_type": "stream",
          "text": [
            "Training: 100%|██████████| 3175/3175 [08:13<00:00,  6.43it/s, training_loss=0.00406]\n",
            "Validation: 100%|██████████| 793/793 [00:41<00:00, 19.03it/s, validation_loss=0.00754]\n"
          ]
        },
        {
          "name": "stdout",
          "output_type": "stream",
          "text": [
            "Model saved at : models/DepthTransformerModel\n",
            "Epoch  11\n"
          ]
        },
        {
          "name": "stderr",
          "output_type": "stream",
          "text": [
            "Training: 100%|██████████| 3175/3175 [08:16<00:00,  6.40it/s, training_loss=0.00387]\n",
            "Validation: 100%|██████████| 793/793 [00:40<00:00, 19.46it/s, validation_loss=0.00771]\n"
          ]
        },
        {
          "name": "stdout",
          "output_type": "stream",
          "text": [
            "Epoch  12\n"
          ]
        },
        {
          "name": "stderr",
          "output_type": "stream",
          "text": [
            "Training: 100%|██████████| 3175/3175 [08:12<00:00,  6.45it/s, training_loss=0.00364]\n",
            "Validation: 100%|██████████| 793/793 [00:40<00:00, 19.56it/s, validation_loss=0.00767]\n"
          ]
        },
        {
          "name": "stdout",
          "output_type": "stream",
          "text": [
            "Epoch  13\n"
          ]
        },
        {
          "name": "stderr",
          "output_type": "stream",
          "text": [
            "Training: 100%|██████████| 3175/3175 [08:12<00:00,  6.45it/s, training_loss=0.00348]\n",
            "Validation: 100%|██████████| 793/793 [00:40<00:00, 19.62it/s, validation_loss=0.00728]\n"
          ]
        },
        {
          "name": "stdout",
          "output_type": "stream",
          "text": [
            "Model saved at : models/DepthTransformerModel\n",
            "Epoch  14\n"
          ]
        },
        {
          "name": "stderr",
          "output_type": "stream",
          "text": [
            "Training: 100%|██████████| 3175/3175 [08:12<00:00,  6.44it/s, training_loss=0.00324]\n",
            "Validation: 100%|██████████| 793/793 [00:40<00:00, 19.55it/s, validation_loss=0.00752]\n"
          ]
        },
        {
          "name": "stdout",
          "output_type": "stream",
          "text": [
            "Epoch  15\n"
          ]
        },
        {
          "name": "stderr",
          "output_type": "stream",
          "text": [
            "Training: 100%|██████████| 3175/3175 [08:12<00:00,  6.44it/s, training_loss=0.00309]\n",
            "Validation: 100%|██████████| 793/793 [00:40<00:00, 19.52it/s, validation_loss=0.00785]\n"
          ]
        },
        {
          "name": "stdout",
          "output_type": "stream",
          "text": [
            "Epoch  16\n"
          ]
        },
        {
          "name": "stderr",
          "output_type": "stream",
          "text": [
            "Training: 100%|██████████| 3175/3175 [08:13<00:00,  6.44it/s, training_loss=0.00289]\n",
            "Validation: 100%|██████████| 793/793 [00:40<00:00, 19.59it/s, validation_loss=0.00716]\n"
          ]
        },
        {
          "name": "stdout",
          "output_type": "stream",
          "text": [
            "Model saved at : models/DepthTransformerModel\n",
            "Epoch  17\n"
          ]
        },
        {
          "name": "stderr",
          "output_type": "stream",
          "text": [
            "Training: 100%|██████████| 3175/3175 [08:12<00:00,  6.45it/s, training_loss=0.00294]\n",
            "Validation: 100%|██████████| 793/793 [00:40<00:00, 19.54it/s, validation_loss=0.00696]\n"
          ]
        },
        {
          "name": "stdout",
          "output_type": "stream",
          "text": [
            "Model saved at : models/DepthTransformerModel\n",
            "Epoch  18\n"
          ]
        },
        {
          "name": "stderr",
          "output_type": "stream",
          "text": [
            "Training: 100%|██████████| 3175/3175 [08:12<00:00,  6.45it/s, training_loss=0.00266]\n",
            "Validation: 100%|██████████| 793/793 [00:40<00:00, 19.56it/s, validation_loss=0.00717]\n"
          ]
        },
        {
          "name": "stdout",
          "output_type": "stream",
          "text": [
            "Epoch  19\n"
          ]
        },
        {
          "name": "stderr",
          "output_type": "stream",
          "text": [
            "Training: 100%|██████████| 3175/3175 [08:12<00:00,  6.44it/s, training_loss=0.00243]\n",
            "Validation: 100%|██████████| 793/793 [00:40<00:00, 19.61it/s, validation_loss=0.00713]\n"
          ]
        },
        {
          "name": "stdout",
          "output_type": "stream",
          "text": [
            "Epoch  20\n"
          ]
        },
        {
          "name": "stderr",
          "output_type": "stream",
          "text": [
            "Training: 100%|██████████| 3175/3175 [08:12<00:00,  6.44it/s, training_loss=0.00243]\n",
            "Validation: 100%|██████████| 793/793 [00:40<00:00, 19.61it/s, validation_loss=0.00699]"
          ]
        },
        {
          "name": "stdout",
          "output_type": "stream",
          "text": [
            "Finished Training\n"
          ]
        },
        {
          "name": "stderr",
          "output_type": "stream",
          "text": [
            "\n"
          ]
        }
      ],
      "source": [
        "with open('config.json', 'r') as f:\n",
        "    config = json.load(f)\n",
        "np.random.seed(config['General']['seed'])\n",
        "\n",
        "list_data = config['Dataset']['paths']['list_datasets']\n",
        "\n",
        "## train set\n",
        "depth_datasets_train = []\n",
        "for dataset_name in list_data:\n",
        "    depth_datasets_train.append(DepthDataset(config, dataset_name, 'train'))\n",
        "\n",
        "train_data = ConcatDataset(depth_datasets_train)\n",
        "train_dataloader = DataLoader(train_data, batch_size=config['General']['batch_size'], shuffle=True)\n",
        "## validation set\n",
        "depth_datasets_val = []\n",
        "for dataset_name in list_data:\n",
        "    depth_datasets_val.append(DepthDataset(config, dataset_name, 'val'))\n",
        "val_data = ConcatDataset(depth_datasets_val)\n",
        "val_dataloader = DataLoader(val_data, batch_size=config['General']['batch_size'], shuffle=True)\n",
        "\n",
        "trainer = Trainer(config)\n",
        "trainer.train(train_dataloader, val_dataloader)"
      ]
    },
    {
      "cell_type": "code",
      "execution_count": 60,
      "metadata": {},
      "outputs": [
        {
          "data": {
            "image/png": "[encoded data removed]",
            "text/plain": [
              "<Figure size 1000x500 with 1 Axes>"
            ]
          },
          "metadata": {},
          "output_type": "display_data"
        }
      ],
      "source": [
        "training_loss = []\n",
        "validation_loss = []\n",
        "epochs = range(1, len(training_loss) + 1)\n",
        "plt.figure(figsize=(10, 5))\n",
        "plt.plot(epochs, training_loss, 'r', label='Training loss')\n",
        "plt.plot(epochs, validation_loss, 'b', label='Validation loss')\n",
        "plt.title('Training and Validation Loss')\n",
        "plt.xlabel('Epochs')\n",
        "plt.ylabel('Loss')\n",
        "plt.legend()\n",
        "plt.grid(True)\n",
        "plt.show()\n"
      ]
    },
    {
      "attachments": {},
      "cell_type": "markdown",
      "metadata": {
        "id": "Ma4MvCTyVhY1"
      },
      "source": [
        "#### Run Inferance on the Depth Estimation Model"
      ]
    },
    {
      "cell_type": "code",
      "execution_count": 62,
      "metadata": {
        "colab": {
          "base_uri": "https://localhost:8080/"
        },
        "id": "9VU24N0tgpiK",
        "outputId": "7a997caa-dd35-43f5-901e-410a6c4eb1d2"
      },
      "outputs": [
        {
          "name": "stdout",
          "output_type": "stream",
          "text": [
            "device: cuda\n"
          ]
        }
      ],
      "source": [
        "with open('config.json', 'r') as f:\n",
        "    config = json.load(f)\n",
        "\n",
        "input_images = glob('input/*.jpg') + glob('input/*.png')\n",
        "predictor = Predictor(config, input_images, frame=None)\n",
        "predictor.run()\n"
      ]
    },
    {
      "attachments": {},
      "cell_type": "markdown",
      "metadata": {
        "id": "6wvUFwvfMseM"
      },
      "source": [
        "#### Plot Predicted Dense Map"
      ]
    },
    {
      "cell_type": "code",
      "execution_count": 75,
      "metadata": {
        "colab": {
          "base_uri": "https://localhost:8080/",
          "height": 415
        },
        "id": "Ydj-3s5vMYWb",
        "outputId": "42fcec4e-486e-4003-e779-4feddb0a8ab7"
      },
      "outputs": [
        {
          "data": {
            "image/png": "[encoded data removed]",
            "text/plain": [
              "<Figure size 640x480 with 2 Axes>"
            ]
          },
          "metadata": {},
          "output_type": "display_data"
        },
        {
          "data": {
            "image/png": "[encoded data removed]",
            "text/plain": [
              "<Figure size 640x480 with 2 Axes>"
            ]
          },
          "metadata": {},
          "output_type": "display_data"
        }
      ],
      "source": [
        "def plot_depth(depth_image_path):\n",
        "    # Check if the file exists\n",
        "    if not os.path.exists(depth_image_path):\n",
        "        print(f\"File not found: {depth_image_path}\")\n",
        "        return\n",
        "\n",
        "    # Open the depth image using PIL\n",
        "    depth_image = Image.open(depth_image_path)\n",
        "\n",
        "    # Plot the depth image using matplotlib\n",
        "    plt.imshow(depth_image, cmap='viridis')\n",
        "    plt.colorbar()\n",
        "    plt.title('Depth Image')\n",
        "    plt.show()\n",
        "\n",
        "# Define the directory path\n",
        "directory_path = \"output/depths\"\n",
        "\n",
        "# Get all .png files in the directory\n",
        "image_paths = glob(os.path.join(directory_path, \"*.png\"))\n",
        "\n",
        "# Loop through all image paths and plot each image\n",
        "for image_path in image_paths:\n",
        "    plot_depth(image_path)"
      ]
    },
    {
      "attachments": {},
      "cell_type": "markdown",
      "metadata": {
        "id": "jP0IcEtwwfjl"
      },
      "source": [
        "### Monocular Visual Odometry"
      ]
    },
    {
      "cell_type": "code",
      "execution_count": 52,
      "metadata": {
        "id": "_z80LICd0nFc"
      },
      "outputs": [],
      "source": [
        "''''''\n",
        "'''\n",
        "@Author: Huangying Zhan (huangying.zhan.work@gmail.com)\n",
        "@Date: 2020-03-01\n",
        "@Copyright: Copyright (C) Huangying Zhan 2020. All rights reserved. Please refer to the license file.\n",
        "@LastEditTime: 2020-05-27\n",
        "@LastEditors: Huangying Zhan\n",
        "@Description: This file contains functions related to GRIC computation\n",
        "'''\n",
        "\n",
        "def compute_fundamental_residual(F, kp1, kp2):\n",
        "    \"\"\"\n",
        "    Compute fundamental matrix residual\n",
        "\n",
        "    Args:\n",
        "        F (array, [3x3]): Fundamental matrix (from view-1 to view-2)\n",
        "        kp1 (array, [Nx2]): keypoint 1\n",
        "        kp2 (array, [Nx2]): keypoint 2\n",
        "\n",
        "    Returns:\n",
        "        res (array, [N]): residual\n",
        "    \"\"\"\n",
        "    # get homogeneous keypoints (3xN array)\n",
        "    m0 = np.ones((3, kp1.shape[0]))\n",
        "    m0[:2] = np.transpose(kp1, (1, 0))\n",
        "    m1 = np.ones((3, kp2.shape[0]))\n",
        "    m1[:2] = np.transpose(kp2, (1, 0))\n",
        "\n",
        "    Fm0 = F @ m0  # 3xN\n",
        "    Ftm1 = F.T @ m1  # 3xN\n",
        "\n",
        "    m1Fm0 = (np.transpose(Fm0, (1, 0)) @ m1).diagonal()\n",
        "    res = m1Fm0 ** 2 / (np.sum(Fm0[:2] ** 2, axis=0) + np.sum(Ftm1[:2] ** 2, axis=0))\n",
        "    return res\n",
        "\n",
        "\n",
        "def compute_homography_residual(H_in, kp1, kp2):\n",
        "    \"\"\"\n",
        "    Compute homography matrix residual\n",
        "\n",
        "    Args:\n",
        "        H (array, [3x3]): homography matrix (Transformation from view-1 to view-2)\n",
        "        kp1 (array, [Nx2]): keypoint 1\n",
        "        kp2 (array, [Nx2]): keypoint 2\n",
        "\n",
        "    Returns:\n",
        "        res (array, [N]): residual\n",
        "    \"\"\"\n",
        "    n = kp1.shape[0]\n",
        "    H = H_in.flatten()\n",
        "\n",
        "    # get homogeneous keypoints (3xN array)\n",
        "    m0 = np.ones((3, kp1.shape[0]))\n",
        "    m0[:2] = np.transpose(kp1, (1, 0))\n",
        "    m1 = np.ones((3, kp2.shape[0]))\n",
        "    m1[:2] = np.transpose(kp2, (1, 0))\n",
        "\n",
        "    G0 = np.zeros((3, n))\n",
        "    G1 = np.zeros((3, n))\n",
        "\n",
        "    G0[0] = H[0] - m1[0] * H[6]\n",
        "    G0[1] = H[1] - m1[0] * H[7]\n",
        "    G0[2] = -m0[0] * H[6] - m0[1] * H[7] - H[8]\n",
        "\n",
        "    G1[0] = H[3] - m1[1] * H[6]\n",
        "    G1[1] = H[4] - m1[1] * H[7]\n",
        "    G1[2] = -m0[0] * H[6] - m0[1] * H[7] - H[8]\n",
        "\n",
        "    magG0 = np.sqrt(G0[0] * G0[0] + G0[1] * G0[1] + G0[2] * G0[2])\n",
        "    magG1 = np.sqrt(G1[0] * G1[0] + G1[1] * G1[1] + G1[2] * G1[2])\n",
        "    magG0G1 = G0[0] * G1[0] + G0[1] * G1[1]\n",
        "\n",
        "    alpha = np.arccos(magG0G1 / (magG0 * magG1))\n",
        "\n",
        "    alg = np.zeros((2, n))\n",
        "    alg[0] = m0[0] * H[0] + m0[1] * H[1] + H[2] - \\\n",
        "             m1[0] * (m0[0] * H[6] + m0[1] * H[7] + H[8])\n",
        "\n",
        "    alg[1] = m0[0] * H[3] + m0[1] * H[4] + H[5] - \\\n",
        "             m1[1] * (m0[0] * H[6] + m0[1] * H[7] + H[8])\n",
        "\n",
        "    D1 = alg[0] / magG0\n",
        "    D2 = alg[1] / magG1\n",
        "\n",
        "    res = (D1 * D1 + D2 * D2 - 2.0 * D1 * D2 * np.cos(alpha)) / np.sin(alpha)\n",
        "\n",
        "    return res\n",
        "\n",
        "\n",
        "def calc_GRIC(res, sigma, n, model):\n",
        "    \"\"\"Calculate GRIC\n",
        "\n",
        "    Args:\n",
        "        res (array, [N]): residual\n",
        "        sigma (float): assumed variance of the error\n",
        "        n (int): number of residuals\n",
        "        model (str): model type\n",
        "            - FMat\n",
        "            - EMat\n",
        "            - HMat\n",
        "    \"\"\"\n",
        "    R = 4\n",
        "    sigmasq1 = 1. / sigma ** 2\n",
        "\n",
        "    K = {\n",
        "        \"FMat\": 7,\n",
        "        \"EMat\": 5,\n",
        "        \"HMat\": 8,\n",
        "    }[model]\n",
        "    D = {\n",
        "        \"FMat\": 3,\n",
        "        \"EMat\": 3,\n",
        "        \"HMat\": 2,\n",
        "    }[model]\n",
        "\n",
        "    lam3RD = 2.0 * (R - D)\n",
        "\n",
        "    sum_ = 0\n",
        "    for i in range(n):\n",
        "        tmp = res[i] * sigmasq1\n",
        "        if tmp <= lam3RD:\n",
        "            sum_ += tmp\n",
        "        else:\n",
        "            sum_ += lam3RD\n",
        "\n",
        "    sum_ += n * D * np.log(R) + K * np.log(R * n)\n",
        "\n",
        "    return sum_\n"
      ]
    },
    {
      "cell_type": "code",
      "execution_count": 53,
      "metadata": {
        "id": "fD2_qLcC0zcy"
      },
      "outputs": [],
      "source": [
        "\"\"\"\n",
        "Code adapted and modified from DF-VO:\n",
        "    -https://github.com/Huangying-Zhan/DF-VO\n",
        "\"\"\"\n",
        "\n",
        "def image_shape(img):\n",
        "    \"\"\"Return image shape\n",
        "\n",
        "    Args:\n",
        "        img (array, [HxWx(c) or HxW]): image\n",
        "\n",
        "    Returns:\n",
        "        a tuple containing\n",
        "            - **h** (int) : image height\n",
        "            - **w** (int) : image width\n",
        "            - **c** (int) : image channel\n",
        "    \"\"\"\n",
        "    if len(img.shape) == 3:\n",
        "        return img.shape\n",
        "    elif len(img.shape) == 2:\n",
        "        h, w = img.shape\n",
        "        return h, w, 1\n",
        "\n",
        "\n",
        "def find_scale_from_depth(cam_intrinsics, kp1, kp2, T_21, depth2, ransac_method=\"depth_ratio\"):\n",
        "    \"\"\"Compute VO scaling factor for T_21\n",
        "\n",
        "    Args:\n",
        "        kp1 (array, [Nx2]): reference kp\n",
        "        kp2 (array, [Nx2]): current kp\n",
        "        T_21 (array, [4x4]): relative pose; from view 1 to view 2\n",
        "        depth2 (array, [HxW]): depth 2\n",
        "\n",
        "    Returns:\n",
        "        scale (float): scaling factor\n",
        "    \"\"\"\n",
        "    # Triangulation\n",
        "    img_h, img_w, _ = image_shape(depth2)\n",
        "    kp1_norm = kp1.copy()\n",
        "    kp2_norm = kp2.copy()\n",
        "\n",
        "    kp1_norm[:, 0] = \\\n",
        "        (kp1[:, 0] - cam_intrinsics.cx) / cam_intrinsics.fx\n",
        "    kp1_norm[:, 1] = \\\n",
        "        (kp1[:, 1] - cam_intrinsics.cy) / cam_intrinsics.fy\n",
        "    kp2_norm[:, 0] = \\\n",
        "        (kp2[:, 0] - cam_intrinsics.cx) / cam_intrinsics.fx\n",
        "    kp2_norm[:, 1] = \\\n",
        "        (kp2[:, 1] - cam_intrinsics.cy) / cam_intrinsics.fy\n",
        "\n",
        "    # triangulation\n",
        "    _, _, X2_tri = triangulation(kp1_norm, kp2_norm, np.eye(4), T_21)\n",
        "\n",
        "    # Triangulation outlier removal\n",
        "    depth2_tri = convert_sparse3D_to_depth(kp2, X2_tri, img_h, img_w)\n",
        "    depth2_tri[depth2_tri < 0] = 0\n",
        "    # self.timers.end('triangulation')\n",
        "\n",
        "    # common mask filtering\n",
        "    non_zero_mask_pred2 = (depth2 > 0)\n",
        "    non_zero_mask_tri2 = (depth2_tri > 0)\n",
        "    valid_mask2 = non_zero_mask_pred2 * non_zero_mask_tri2\n",
        "\n",
        "    depth_pred_non_zero = np.concatenate([depth2[valid_mask2]])\n",
        "    depth_tri_non_zero = np.concatenate([depth2_tri[valid_mask2]])\n",
        "    depth_ratio = depth_tri_non_zero / depth_pred_non_zero\n",
        "\n",
        "\n",
        "    # Estimate scale (ransac)\n",
        "    if valid_mask2.sum() > 10:\n",
        "        # RANSAC scaling solver\n",
        "        # self.timers.start('scale ransac', 'scale_recovery')\n",
        "        ransac = linear_model.RANSACRegressor(\n",
        "            base_estimator=linear_model.LinearRegression(\n",
        "                fit_intercept=False),\n",
        "            min_samples=3,  # minimum number of min_samples\n",
        "            max_trials=100, # maximum number of trials\n",
        "            stop_probability=0.99, # the probability that the algorithm produces a useful result\n",
        "            residual_threshold=0.1,  # inlier threshold value\n",
        "        )\n",
        "        if ransac_method == \"depth_ratio\":\n",
        "            ransac.fit(\n",
        "                depth_ratio.reshape(-1, 1),\n",
        "                np.ones((depth_ratio.shape[0], 1))\n",
        "            )\n",
        "        elif ransac_method == \"abs_diff\":\n",
        "            ransac.fit(\n",
        "                depth_tri_non_zero.reshape(-1, 1),\n",
        "                depth_pred_non_zero.reshape(-1, 1),\n",
        "            )\n",
        "        scale = ransac.estimator_.coef_[0, 0]\n",
        "        print(\"scale: \", scale)\n",
        "\n",
        "    else:\n",
        "        scale = -1.0\n",
        "\n",
        "    return scale\n",
        "\n",
        "\n",
        "def triangulation(kp1, kp2, T_1w, T_2w):\n",
        "    \"\"\"Triangulation to get 3D points\n",
        "\n",
        "    Args:\n",
        "        kp1 (array, [Nx2]): keypoint in view 1 (normalized)\n",
        "        kp2 (array, [Nx2]): keypoints in view 2 (normalized)\n",
        "        T_1w (array, [4x4]): pose of view 1 w.r.t  i.e. T_1w (from w to 1)\n",
        "        T_2w (array, [4x4]): pose of view 2 w.r.t world, i.e. T_2w (from w to 2)\n",
        "\n",
        "    Returns:\n",
        "        a tuple containing\n",
        "            - **X** (array, [3xN]): 3D coordinates of the keypoints w.r.t world coordinate\n",
        "            - **X1** (array, [3xN]): 3D coordinates of the keypoints w.r.t view1 coordinate\n",
        "            - **X2** (array, [3xN]): 3D coordinates of the keypoints w.r.t view2 coordinate\n",
        "    \"\"\"\n",
        "    kp1_3D = np.ones((3, kp1.shape[0]))\n",
        "    kp2_3D = np.ones((3, kp2.shape[0]))\n",
        "    kp1_3D[0], kp1_3D[1] = kp1[:, 0].copy(), kp1[:, 1].copy()\n",
        "    kp2_3D[0], kp2_3D[1] = kp2[:, 0].copy(), kp2[:, 1].copy()\n",
        "    X = cv2.triangulatePoints(T_1w[:3], T_2w[:3], kp1_3D[:2], kp2_3D[:2])\n",
        "    X /= X[3]\n",
        "    X1 = T_1w[:3] @ X\n",
        "    X2 = T_2w[:3] @ X\n",
        "    return X[:3], X1, X2\n",
        "\n",
        "\n",
        "def convert_sparse3D_to_depth(kp, XYZ, height, width):\n",
        "    \"\"\"Convert sparse 3D keypoint to depth map\n",
        "\n",
        "    Args:\n",
        "        kp (array, [Nx2]): keypoints\n",
        "        XYZ (array, [3xN]): 3D coorindates for the keypoints\n",
        "        height (int): image height\n",
        "        width (int): image width\n",
        "\n",
        "    Returns:\n",
        "        depth (array, [HxW]): depth map\n",
        "    \"\"\"\n",
        "    # initialize depth map\n",
        "    depth = np.zeros((height, width))\n",
        "    kp_int = kp.astype(int)\n",
        "\n",
        "    # remove out of region keypoints\n",
        "    y_idx = (kp_int[:, 0] >= 0) * (kp_int[:, 0] < width)\n",
        "    kp_int = kp_int[y_idx]\n",
        "    x_idx = (kp_int[:, 1] >= 0) * (kp_int[:, 1] < height)\n",
        "    kp_int = kp_int[x_idx]\n",
        "\n",
        "    XYZ = XYZ[:, y_idx]\n",
        "    XYZ = XYZ[:, x_idx]\n",
        "\n",
        "    depth[kp_int[:, 1], kp_int[:, 0]] = XYZ[2]\n",
        "    return depth\n"
      ]
    },
    {
      "cell_type": "code",
      "execution_count": 84,
      "metadata": {
        "id": "fBnonEtkwfFt"
      },
      "outputs": [],
      "source": [
        "class VisualOdometry:\n",
        "    \"\"\"\n",
        "    Monocular Visual Odometry:\n",
        "        1) Capture new frame I_k\n",
        "        2) Extract and match features between I_{k-1} and I_k\n",
        "        3) Compute essential matrix for image pair I_{k-1}, I_k\n",
        "        4) Decompose essential matrix into R_k and t_k, and form T_k\n",
        "        5) Compute relative scale and rescale tk accordingly\n",
        "        6) Concatenate transformation by computing Ck ¼ Ck\u00021Tk\n",
        "        7) Repeat from 1).\n",
        "\n",
        "    Main theory source:\n",
        "        D. Scaramuzza and F. Fraundorfer, \"Visual Odometry [Tutorial]\"\n",
        "        https://rpg.ifi.uzh.ch/visual_odometry_tutorial.html\n",
        "\n",
        "    Code ref.:\n",
        "        https://github.com/uoip/monoVO-python\n",
        "    \"\"\"\n",
        "\n",
        "    def __init__(self, cam, depth_model):\n",
        "        self.cam = cam  # camera object\n",
        "        self.prev_frame = None  # previous frame\n",
        "        self.feat_ref = None  # reference features (first frame)\n",
        "        self.feat_curr = None  # features from current image\n",
        "        self.detector_method = \"FAST\"  # detector method\n",
        "        self.matching_method = \"OF_PyrLK\"  # feature matching method\n",
        "        self.min_num_features = 2500\n",
        "        self.R = np.eye(3)\n",
        "        self.t = np.zeros((3, 1))\n",
        "        self.depth_model = depth_model\n",
        "        self.prev_depth = None\n",
        "        self.pose = np.zeros((4, 4))  # pose matrix [R | t; 0  1]\n",
        "\n",
        "    def detect_features(self, frame):\n",
        "        \"\"\"\n",
        "        Point-feature detector: search for salient keypoints that are likely to match well in other image frames.\n",
        "            - corner detectors: Moravec, Forstner, Harris, Shi-Tomasi, and FAST.\n",
        "            - blob detectors: SIFT, SURF, and CENSURE.\n",
        "\n",
        "        Args:\n",
        "            frame {ndarray}: frame to be processed\n",
        "        \"\"\"\n",
        "        if self.detector_method == \"FAST\":\n",
        "            detector = cv2.FastFeatureDetector_create()  # threshold=25, nonmaxSuppression=True)\n",
        "            return detector.detect(frame)\n",
        "\n",
        "        elif self.detector_method == \"ORB\":\n",
        "            detector = cv2.ORB_create(nfeatures=2000)\n",
        "            kp1, des1 = detector.detectAndCompute(frame, None)\n",
        "            return kp1\n",
        "\n",
        "    def feature_matching(self, frame):\n",
        "        \"\"\"\n",
        "        The feature-matching: looks for corresponding features in other images.\n",
        "\n",
        "        Args:\n",
        "            frame {ndarray}: frame to be processed\n",
        "        \"\"\"\n",
        "        if self.matching_method == \"OF_PyrLK\":\n",
        "            # Calculate optical flow for a sparse feature set using the iterative Lucas-Kanade method with pyramids\n",
        "            kp2, st, err = cv2.calcOpticalFlowPyrLK(self.prev_frame, frame,\n",
        "                                                    self.feat_ref, None,\n",
        "                                                    winSize=(21, 21),\n",
        "                                                    criteria=(\n",
        "                                                    cv2.TERM_CRITERIA_EPS | cv2.TERM_CRITERIA_COUNT, 30, 0.01))\n",
        "\n",
        "            st = st.reshape(st.shape[0])  # status of points from frame to frame\n",
        "            # Keypoints\n",
        "            kp1 = self.feat_ref[st == 1]\n",
        "            kp2 = kp2[st == 1]\n",
        "        return kp1, kp2\n",
        "\n",
        "    def motion_estimation_init(self, frame):\n",
        "        \"\"\"\n",
        "        Processes first frame to initialize the reference features and the matrix R and t.\n",
        "        Only for frame_id == 0.\n",
        "\n",
        "        Args:\n",
        "            frame {ndarray}: frame to be processed\n",
        "            frame_id {int}: integer corresponding to the frame id\n",
        "        \"\"\"\n",
        "        feat_ref = self.detect_features(frame)\n",
        "        self.feat_ref = np.array([x.pt for x in feat_ref], dtype=np.float32)\n",
        "\n",
        "\n",
        "\n",
        "    def motion_estimation(self, frame, frame_id):\n",
        "        \"\"\"\n",
        "        Estimates the motion from current frame and computed keypoints\n",
        "\n",
        "        Args:\n",
        "            frame {ndarray}: frame to be processed\n",
        "            frame_id {int}: integer corresponding to the frame id\n",
        "            pose {list}: list with ground truth pose [x, y, z]\n",
        "        \"\"\"\n",
        "        def plot_matches(prev_frame, frame, feat_ref, feat_curr):\n",
        "            \"\"\"\n",
        "            Plots the matches between the previous frame and the current frame\n",
        "\n",
        "            Args:\n",
        "                prev_frame {ndarray}: previous frame\n",
        "                frame {ndarray}: current frame\n",
        "                feat_ref {ndarray}: reference features\n",
        "                feat_curr {ndarray}: current features\n",
        "            \"\"\"\n",
        "            # plot matches\n",
        "            # for i, (new, old) in enumerate(zip(feat_curr, feat_ref)):\n",
        "            #     a, b = new.ravel()\n",
        "            #     c, d = old.ravel()\n",
        "            #     # use rectangule to show the matches\n",
        "            #     cv2.rectangle(prev_frame, (int(c), int(d)), (int(c) + 1, int(d) + 1), (255, 255, 0), 2)\n",
        "            #     cv2.rectangle(frame, (int(a), int(b)), (int(a) + 1, int(b) + 1), (255, 255, 0), 2)\n",
        "            #     cv2.line(frame, (int(a), int(b)), (int(c), int(d)), (0, 255, 0), 1)\n",
        "            # cv2.imshow(\"matches\", frame)\n",
        "            # # save image\n",
        "            # cv2.imwrite(\"matches.png\", frame)\n",
        "            # cv2.waitKey(1)\n",
        "\n",
        "        self.feat_ref, self.feat_curr = self.feature_matching(frame)\n",
        "        # plot matches\n",
        "        # if frame_id == 520 and frame_id == 521:\n",
        "        #     plot_matches(self.prev_frame, frame, self.feat_ref, self.feat_curr)\n",
        "        \n",
        "        # # Estimating an essential matrix (E): geometric relations between two images\n",
        "        R, t = compute_pose_2d2d(self.feat_ref, self.feat_curr, self.cam)\n",
        "\n",
        "        # estimate depth from a single image frame\n",
        "        # depth = self.depth_model.compute_depth(frame)\n",
        "        input_images = None\n",
        "        with open('config.json', 'r') as f:\n",
        "            config = json.load(f)\n",
        "        predictor = Predictor(config,input_images, frame)\n",
        "        depth = predictor.get_depth()\n",
        "        depth = np.asarray(depth)\n",
        "        depth = preprocess_depth(depth, crop=[[0.3, 1], [0, 1]], depth_range=[0, 50])\n",
        "\n",
        "        if frame_id == 1:\n",
        "            self.R = R\n",
        "            self.t = t\n",
        "\n",
        "        else:\n",
        "            E_pose = np.eye(4)\n",
        "            E_pose[:3, :3] = R\n",
        "            E_pose[: 3, 3:] = t\n",
        "\n",
        "            # estimate scale\n",
        "            scale = find_scale_from_depth(\n",
        "                self.cam,\n",
        "                self.feat_ref,\n",
        "                self.feat_curr,\n",
        "                np.linalg.inv(E_pose),\n",
        "                depth\n",
        "            )\n",
        "            print(\"scale: \", scale)\n",
        "            if np.linalg.norm(t) == 0 or scale == -1.0:\n",
        "                R, t = compute_pose_3d2d(\n",
        "                    self.feat_ref,\n",
        "                    self.feat_curr,\n",
        "                    self.prev_depth,\n",
        "                    self.cam\n",
        "                )  # pose: from cur->ref\n",
        "                scale = 1.0\n",
        "\n",
        "            # estimate camera motion\n",
        "            self.t = self.t + scale * self.R.dot(t)\n",
        "            self.R = self.R.dot(R)\n",
        "\n",
        "        self.prev_depth = depth\n",
        "\n",
        "        # check if number of features is enough (some features are lost in time due to the moving scene)\n",
        "        if self.feat_ref.shape[0] < self.min_num_features:\n",
        "            self.feat_curr = self.detect_features(frame)\n",
        "            self.feat_curr = np.array([x.pt for x in self.feat_curr], dtype=np.float32)\n",
        "\n",
        "        # update reference features\n",
        "        self.feat_ref = self.feat_curr\n",
        "\n",
        "    def update(self, frame, frame_id):\n",
        "        \"\"\"\n",
        "        Computes the camera motion between the current image and the previous one.\n",
        "        \"\"\"\n",
        "        # Process first frame to get reference features\n",
        "        if frame_id == 0:\n",
        "            self.motion_estimation_init(frame)\n",
        "        else:\n",
        "            self.motion_estimation(frame, frame_id)\n",
        "\n",
        "        self.prev_frame = frame\n",
        "\n",
        "        # Pose matrix\n",
        "        pose = np.eye(4)\n",
        "        pose[:3, :3] = self.R\n",
        "        pose[: 3, 3:] = self.t\n",
        "        self.pose = pose\n",
        "\n",
        "\n",
        "def preprocess_depth(depth, crop, depth_range):\n",
        "    \"\"\"\n",
        "    Preprocess depth map with cropping and capping range\n",
        "    Code adapted from DF-VO:\n",
        "        -https://github.com/Huangying-Zhan/DF-VO\n",
        "\n",
        "    Args:\n",
        "        depth (array, [HxW]): depth map\n",
        "        crop (list): normalized crop regions [[y0, y1], [x0, x1]]. non-cropped regions set to 0.\n",
        "        depth_range (list): a list with float numbers [min_depth, max_depth]\n",
        "\n",
        "    Returns:\n",
        "        depth (array, [HxW]): processed depth map\n",
        "    \"\"\"\n",
        "    # normalize depth\n",
        "    # depth_min = depth.min()\n",
        "    # depth_max = depth.max()\n",
        "    # max_val = (2 ** (8 * 1)) - 1\n",
        "    # if depth_max - depth_min > np.finfo(\"float\").eps:\n",
        "    #     depth = max_val * (depth - depth_min) / (depth_max - depth_min)\n",
        "    # else:\n",
        "    #     depth = np.zeros(depth.shape, dtype=depth.dtype)\n",
        "\n",
        "    # print(\"depth_max: \", depth.max())\n",
        "    # print(\"depth_min: \", depth.min())\n",
        "\n",
        "    # set cropping region\n",
        "    min_depth, max_depth = depth_range\n",
        "    h, w = depth.shape\n",
        "    y0, y1 = int(h * crop[0][0]), int(h * crop[0][1])\n",
        "    x0, x1 = int(w * crop[1][0]), int(w * crop[1][1])\n",
        "    depth_mask = np.zeros((h, w))\n",
        "    depth_mask[y0:y1, x0:x1] = 1\n",
        "\n",
        "    # set range mask\n",
        "    depth_range_mask = (depth < max_depth) * (depth > min_depth)\n",
        "\n",
        "    # set invalid pixel to zero depth\n",
        "    valid_mask = depth_mask * depth_range_mask\n",
        "    depth = depth * valid_mask\n",
        "    return depth\n",
        "\n",
        "\n",
        "def compute_pose_3d2d(kp1, kp2, depth_1, cam_intrinsics):\n",
        "    \"\"\"\n",
        "    Compute pose from 3d-2d correspondences\n",
        "    Code adapted from DF-VO:\n",
        "        -https://github.com/Huangying-Zhan/DF-VO\n",
        "\n",
        "    Args:\n",
        "        cam_intrinsics: camera intrinsics\n",
        "        kp1 (array, [Nx2]): keypoints for view-1\n",
        "        kp2 (array, [Nx2]): keypoints for view-2\n",
        "        depth_1 (array, [HxW]): depths for view-1\n",
        "\n",
        "    Returns:\n",
        "        R (array, [3x3]): rotation matrix\n",
        "        t (array, [3x1]): translation vector\n",
        "    \"\"\"\n",
        "    max_depth = 50\n",
        "    min_depth = 0\n",
        "\n",
        "    outputs = {}\n",
        "    height, width = depth_1.shape\n",
        "\n",
        "    # Filter keypoints outside image region\n",
        "    x_idx = (kp1[:, 0] >= 0) * (kp1[:, 0] < width)\n",
        "    kp1 = kp1[x_idx]\n",
        "    kp2 = kp2[x_idx]\n",
        "    x_idx = (kp2[:, 0] >= 0) * (kp2[:, 0] < width)\n",
        "    kp1 = kp1[x_idx]\n",
        "    kp2 = kp2[x_idx]\n",
        "    y_idx = (kp1[:, 1] >= 0) * (kp1[:, 1] < height)\n",
        "    kp1 = kp1[y_idx]\n",
        "    kp2 = kp2[y_idx]\n",
        "    y_idx = (kp2[:, 1] >= 0) * (kp2[:, 1] < height)\n",
        "    kp1 = kp1[y_idx]\n",
        "    kp2 = kp2[y_idx]\n",
        "\n",
        "    # Filter keypoints outside depth range\n",
        "    kp1_int = kp1.astype(int)\n",
        "    kp_depths = depth_1[kp1_int[:, 1], kp1_int[:, 0]]\n",
        "    non_zero_mask = (kp_depths != 0)\n",
        "    depth_range_mask = (kp_depths < max_depth) * (kp_depths > min_depth)\n",
        "    valid_kp_mask = non_zero_mask * depth_range_mask\n",
        "\n",
        "    kp1 = kp1[valid_kp_mask]\n",
        "    kp2 = kp2[valid_kp_mask]\n",
        "\n",
        "    # Get 3D coordinates for kp1\n",
        "    XYZ_kp1 = unprojection_kp(kp1, kp_depths[valid_kp_mask], cam_intrinsics)\n",
        "\n",
        "    # initialize ransac setup\n",
        "    best_rt = []\n",
        "    best_inlier = 0\n",
        "    max_ransac_iter = 3\n",
        "\n",
        "    for _ in range(max_ransac_iter):\n",
        "        # shuffle kp (only useful when random seed is fixed)\n",
        "        new_list = np.arange(0, kp2.shape[0], 1)\n",
        "        np.random.shuffle(new_list)\n",
        "        new_XYZ = XYZ_kp1.copy()[new_list]\n",
        "        new_kp2 = kp2.copy()[new_list]\n",
        "\n",
        "        if new_kp2.shape[0] > 4:\n",
        "            # PnP solver\n",
        "            flag, r, t, inlier = cv2.solvePnPRansac(\n",
        "                objectPoints=new_XYZ,\n",
        "                imagePoints=new_kp2,\n",
        "                cameraMatrix=cam_intrinsics.mat,\n",
        "                distCoeffs=None,\n",
        "                iterationsCount=100,  # number of iteration\n",
        "                reprojectionError=1,  # inlier threshold value\n",
        "            )\n",
        "\n",
        "            # save best pose estimation\n",
        "            if flag and inlier.shape[0] > best_inlier:\n",
        "                best_rt = [r, t]\n",
        "                best_inlier = inlier.shape[0]\n",
        "\n",
        "    # format pose\n",
        "    R = np.eye(3)\n",
        "    t = np.zeros((3, 1))\n",
        "    if len(best_rt) != 0:\n",
        "        r, t = best_rt\n",
        "        R = cv2.Rodrigues(r)[0]\n",
        "    E_pose = np.eye(4)\n",
        "    E_pose[:3, :3] = R\n",
        "    E_pose[: 3, 3:] = t\n",
        "    E_pose = np.linalg.inv(E_pose)\n",
        "    R = E_pose[:3, :3]\n",
        "    t = E_pose[: 3, 3:]\n",
        "    return R, t\n",
        "\n",
        "\n",
        "def unprojection_kp(kp, kp_depth, cam_intrinsics):\n",
        "    \"\"\"\n",
        "    Convert kp to XYZ\n",
        "    Code from DF-VO:\n",
        "        -https://github.com/Huangying-Zhan/DF-VO\n",
        "\n",
        "    Args:\n",
        "        kp (array, [Nx2]): [x, y] keypoints\n",
        "        kp_depth (array, [Nx2]): keypoint depth\n",
        "        cam_intrinsics (Intrinsics): camera intrinsics\n",
        "\n",
        "    Returns:\n",
        "        XYZ (array, [Nx3]): 3D coordinates\n",
        "    \"\"\"\n",
        "    N = kp.shape[0]\n",
        "    # initialize regular grid\n",
        "    XYZ = np.ones((N, 3, 1))\n",
        "    XYZ[:, :2, 0] = kp\n",
        "\n",
        "    inv_K = np.ones((1, 3, 3))\n",
        "    inv_K[0] = np.linalg.inv(cam_intrinsics.mat)  # cam_intrinsics.inv_mat\n",
        "    inv_K = np.repeat(inv_K, N, axis=0)\n",
        "\n",
        "    XYZ = np.matmul(inv_K, XYZ)[:, :, 0]\n",
        "    XYZ[:, 0] = XYZ[:, 0] * kp_depth\n",
        "    XYZ[:, 1] = XYZ[:, 1] * kp_depth\n",
        "    XYZ[:, 2] = XYZ[:, 2] * kp_depth\n",
        "    return XYZ\n",
        "\n",
        "\n",
        "def compute_pose_2d2d(kp_ref, kp_cur, cam_intrinsics):\n",
        "    \"\"\"\n",
        "    Compute the pose from view2 to view1\n",
        "    Code adapted from DF-VO:\n",
        "        -https://github.com/Huangying-Zhan/DF-VO\n",
        "\n",
        "    Args:\n",
        "        kp_ref (array, [Nx2]): keypoints for reference view\n",
        "        kp_cur (array, [Nx2]): keypoints for current view\n",
        "        cam_intrinsics (Intrinsics): camera intrinsics\n",
        "        is_iterative (bool): is iterative stage\n",
        "\n",
        "    Returns:\n",
        "        a dictionary containing\n",
        "            - **pose** (SE3): relative pose from current to reference view\n",
        "            - **best_inliers** (array, [N]): boolean inlier mask\n",
        "    \"\"\"\n",
        "    principal_points = (cam_intrinsics.cx, cam_intrinsics.cy)\n",
        "\n",
        "    # initialize ransac setup\n",
        "    R = np.eye(3)\n",
        "    t = np.zeros((3, 1))\n",
        "    best_Rt = [R, t]\n",
        "    best_inlier_cnt = 0\n",
        "    max_ransac_iter = 3\n",
        "    best_inliers = np.ones((kp_ref.shape[0], 1)) == 1\n",
        "\n",
        "    # method GRIC of validating E-tracker\n",
        "    if kp_cur.shape[0] > 10:\n",
        "        H, H_inliers = cv2.findHomography(\n",
        "            kp_cur,\n",
        "            kp_ref,\n",
        "            method=cv2.RANSAC,\n",
        "            confidence=0.99,\n",
        "            ransacReprojThreshold=1,\n",
        "        )\n",
        "\n",
        "        H_res = compute_homography_residual(H, kp_cur, kp_ref)\n",
        "        H_gric = calc_GRIC(\n",
        "            res=H_res,\n",
        "            sigma=0.8,\n",
        "            n=kp_cur.shape[0],\n",
        "            model=\"HMat\"\n",
        "        )\n",
        "        valid_case = True\n",
        "    else:\n",
        "        valid_case = False\n",
        "\n",
        "    if valid_case:\n",
        "        num_valid_case = 0\n",
        "        for i in range(max_ransac_iter):  # repeat ransac for several times for stable result\n",
        "            # shuffle kp_cur and kp_ref (only useful when random seed is fixed)\n",
        "            new_list = np.arange(0, kp_cur.shape[0], 1)\n",
        "            np.random.shuffle(new_list)\n",
        "            new_kp_cur = kp_cur.copy()[new_list]\n",
        "            new_kp_ref = kp_ref.copy()[new_list]\n",
        "\n",
        "            E, inliers = cv2.findEssentialMat(\n",
        "                new_kp_cur,\n",
        "                new_kp_ref,\n",
        "                focal=cam_intrinsics.fx,\n",
        "                pp=principal_points,\n",
        "                method=cv2.RANSAC,\n",
        "                prob=0.99,\n",
        "                threshold=0.2,\n",
        "            )\n",
        "\n",
        "            # get F from E\n",
        "            K = cam_intrinsics.mat\n",
        "            F = np.linalg.inv(K.T) @ E @ np.linalg.inv(K)\n",
        "            E_res = compute_fundamental_residual(F, new_kp_cur, new_kp_ref)\n",
        "\n",
        "            E_gric = calc_GRIC(\n",
        "                res=E_res,\n",
        "                sigma=0.8,\n",
        "                n=kp_cur.shape[0],\n",
        "                model='EMat'\n",
        "            )\n",
        "            valid_case = H_gric > E_gric\n",
        "\n",
        "            # inlier check\n",
        "            inlier_check = inliers.sum() > best_inlier_cnt\n",
        "\n",
        "            # save best_E\n",
        "            if inlier_check:\n",
        "                best_E = E\n",
        "                best_inlier_cnt = inliers.sum()\n",
        "\n",
        "                revert_new_list = np.zeros_like(new_list)\n",
        "                for cnt, i in enumerate(new_list):\n",
        "                    revert_new_list[i] = cnt\n",
        "                best_inliers = inliers[list(revert_new_list)]\n",
        "            num_valid_case += (valid_case * 1)\n",
        "\n",
        "        major_valid = num_valid_case > (max_ransac_iter / 2)\n",
        "        if major_valid:\n",
        "            cheirality_cnt, R, t, _ = cv2.recoverPose(best_E, kp_cur, kp_ref,\n",
        "                                                      focal=cam_intrinsics.fx,\n",
        "                                                      pp=principal_points,\n",
        "                                                      )\n",
        "\n",
        "            # cheirality_check\n",
        "            if cheirality_cnt > kp_cur.shape[0] * 0.1:\n",
        "                best_Rt = [R, t]\n",
        "\n",
        "    R, t = best_Rt\n",
        "    return R, t"
      ]
    },
    {
      "attachments": {},
      "cell_type": "markdown",
      "metadata": {
        "id": "7_0gHt9pws-N"
      },
      "source": [
        "### Visualization of trajectory"
      ]
    },
    {
      "cell_type": "code",
      "execution_count": 55,
      "metadata": {
        "id": "68nLgZxwGzoQ"
      },
      "outputs": [],
      "source": [
        "import os\n",
        "import matplotlib.pyplot as plt\n",
        "\n",
        "\n",
        "def plot_trajectory(gt_poses, estimated_poses, save_name):\n",
        "    \"\"\"\n",
        "    Plot estimated and ground truth trajectory.\n",
        "\n",
        "    Args:\n",
        "        gt_poses {list}: list with ground truth poses of trajectory [x_true, y_true, z_true]\n",
        "        estimated_poses {list}: list with estimated poses of trajectory [x, y, z]\n",
        "    \"\"\"\n",
        "    plt.figure()\n",
        "    # Plot estimated trajectory\n",
        "    plt.plot([x[0] for x in estimated_poses], [z[2] for z in estimated_poses], \"b\")\n",
        "    # Plot ground truth trajectory\n",
        "    plt.plot([x[0] for x in gt_poses], [z[2] for z in gt_poses], \"r\")\n",
        "\n",
        "    plt.grid()\n",
        "    plt.title(\"Visual Odometry\")\n",
        "    plt.xlabel(\"Translation in x direction [m]\")\n",
        "    plt.ylabel(\"Translation in z direction [m]\")\n",
        "    plt.legend([\"estimated\", \"ground truth\"])\n",
        "    plt.savefig(save_name)\n",
        "\n",
        "\n",
        "def save_trajectory(poses, sequence, save_dir):\n",
        "    \"\"\"\n",
        "    Save predicted poses in .txt file\n",
        "\n",
        "    Args:\n",
        "        poses {ndarray}: list with all 4x4 pose matrix\n",
        "        sequence {str}: sequence of KITTI dataset\n",
        "        save_dir {str}: path to save pose\n",
        "    \"\"\"\n",
        "    # create directory\n",
        "    if not os.path.exists(save_dir):\n",
        "        os.makedirs(save_dir)\n",
        "\n",
        "    output_filename = os.path.join(save_dir, \"{}.txt\".format(sequence))\n",
        "    with open(output_filename, \"w\") as f:\n",
        "        for pose in poses:\n",
        "            pose = pose.flatten()[:12]\n",
        "            line = \" \".join([str(x) for x in pose]) + \"\\n\"\n",
        "            # line = f\"{pose[0]:.4f}\" + \" \" + f\"{pose[1]:.4f}\" + \" \" + f\"{pose[2]:.4f}\" + \"\\n\"\n",
        "            f.write(line)\n"
      ]
    },
    {
      "attachments": {},
      "cell_type": "markdown",
      "metadata": {
        "id": "0FNP7k0tNZyr"
      },
      "source": [
        "Download KITTI Visual Odometry dataset for generating Tracjectory"
      ]
    },
    {
      "cell_type": "code",
      "execution_count": 56,
      "metadata": {
        "id": "MK09AKL69ars"
      },
      "outputs": [],
      "source": [
        "# !gdown 1uu_f3oED6TR5GAvlUedkvpz4IIRGo_Mm\n",
        "# !unzip \"/content/mvo_dataset.zip\""
      ]
    },
    {
      "attachments": {},
      "cell_type": "markdown",
      "metadata": {},
      "source": [
        "#### Run sequences"
      ]
    },
    {
      "cell_type": "code",
      "execution_count": 86,
      "metadata": {
        "colab": {
          "base_uri": "https://localhost:8080/",
          "height": 356
        },
        "id": "o2Gyd5cNw0eZ",
        "outputId": "c46d8fb1-6c21-4163-9f07-9f7e5ea5f1a3"
      },
      "outputs": [
        {
          "name": "stdout",
          "output_type": "stream",
          "text": [
            "/home/starfleeet/Documents/project/mvo_dataset/dataset/sequences/02/image_0/*.png\n"
          ]
        },
        {
          "name": "stderr",
          "output_type": "stream",
          "text": [
            "Sequence 02:   0%|          | 0/51 [00:00<?, ?it/s]"
          ]
        },
        {
          "name": "stdout",
          "output_type": "stream",
          "text": [
            "device: cuda\n"
          ]
        },
        {
          "name": "stderr",
          "output_type": "stream",
          "text": [
            "Sequence 02:   4%|▍         | 2/51 [00:02<01:11,  1.45s/it]"
          ]
        },
        {
          "name": "stdout",
          "output_type": "stream",
          "text": [
            "device: cuda\n"
          ]
        },
        {
          "name": "stderr",
          "output_type": "stream",
          "text": [
            "/home/starfleeet/.local/lib/python3.10/site-packages/sklearn/linear_model/_ransac.py:343: FutureWarning: `base_estimator` was renamed to `estimator` in version 1.1 and will be removed in 1.3.\n",
            "  warnings.warn(\n",
            "Sequence 02:   6%|▌         | 3/51 [00:05<01:36,  2.01s/it]"
          ]
        },
        {
          "name": "stdout",
          "output_type": "stream",
          "text": [
            "scale:  0.5677983583536617\n",
            "scale:  0.5677983583536617\n",
            "device: cuda\n"
          ]
        },
        {
          "name": "stderr",
          "output_type": "stream",
          "text": [
            "/home/starfleeet/.local/lib/python3.10/site-packages/sklearn/linear_model/_ransac.py:343: FutureWarning: `base_estimator` was renamed to `estimator` in version 1.1 and will be removed in 1.3.\n",
            "  warnings.warn(\n",
            "Sequence 02:   8%|▊         | 4/51 [00:08<01:48,  2.32s/it]"
          ]
        },
        {
          "name": "stdout",
          "output_type": "stream",
          "text": [
            "scale:  0.6752187586179653\n",
            "scale:  0.6752187586179653\n",
            "device: cuda\n"
          ]
        },
        {
          "name": "stderr",
          "output_type": "stream",
          "text": [
            "/home/starfleeet/.local/lib/python3.10/site-packages/sklearn/linear_model/_ransac.py:343: FutureWarning: `base_estimator` was renamed to `estimator` in version 1.1 and will be removed in 1.3.\n",
            "  warnings.warn(\n",
            "Sequence 02:  10%|▉         | 5/51 [00:11<01:53,  2.47s/it]"
          ]
        },
        {
          "name": "stdout",
          "output_type": "stream",
          "text": [
            "scale:  0.925115832437538\n",
            "scale:  0.925115832437538\n",
            "device: cuda\n"
          ]
        },
        {
          "name": "stderr",
          "output_type": "stream",
          "text": [
            "/home/starfleeet/.local/lib/python3.10/site-packages/sklearn/linear_model/_ransac.py:343: FutureWarning: `base_estimator` was renamed to `estimator` in version 1.1 and will be removed in 1.3.\n",
            "  warnings.warn(\n",
            "Sequence 02:  12%|█▏        | 6/51 [00:14<01:55,  2.56s/it]"
          ]
        },
        {
          "name": "stdout",
          "output_type": "stream",
          "text": [
            "scale:  0.8086220311139923\n",
            "scale:  0.8086220311139923\n",
            "device: cuda\n"
          ]
        },
        {
          "name": "stderr",
          "output_type": "stream",
          "text": [
            "/home/starfleeet/.local/lib/python3.10/site-packages/sklearn/linear_model/_ransac.py:343: FutureWarning: `base_estimator` was renamed to `estimator` in version 1.1 and will be removed in 1.3.\n",
            "  warnings.warn(\n",
            "Sequence 02:  14%|█▎        | 7/51 [00:16<01:55,  2.62s/it]"
          ]
        },
        {
          "name": "stdout",
          "output_type": "stream",
          "text": [
            "scale:  0.3455361006993722\n",
            "scale:  0.3455361006993722\n",
            "device: cuda\n"
          ]
        },
        {
          "name": "stderr",
          "output_type": "stream",
          "text": [
            "/home/starfleeet/.local/lib/python3.10/site-packages/sklearn/linear_model/_ransac.py:343: FutureWarning: `base_estimator` was renamed to `estimator` in version 1.1 and will be removed in 1.3.\n",
            "  warnings.warn(\n",
            "Sequence 02:  16%|█▌        | 8/51 [00:19<01:55,  2.69s/it]"
          ]
        },
        {
          "name": "stdout",
          "output_type": "stream",
          "text": [
            "scale:  1.5767715129796875\n",
            "scale:  1.5767715129796875\n",
            "device: cuda\n"
          ]
        },
        {
          "name": "stderr",
          "output_type": "stream",
          "text": [
            "/home/starfleeet/.local/lib/python3.10/site-packages/sklearn/linear_model/_ransac.py:343: FutureWarning: `base_estimator` was renamed to `estimator` in version 1.1 and will be removed in 1.3.\n",
            "  warnings.warn(\n",
            "Sequence 02:  18%|█▊        | 9/51 [00:22<01:55,  2.75s/it]"
          ]
        },
        {
          "name": "stdout",
          "output_type": "stream",
          "text": [
            "scale:  0.4787769769131941\n",
            "scale:  0.4787769769131941\n",
            "device: cuda\n"
          ]
        },
        {
          "name": "stderr",
          "output_type": "stream",
          "text": [
            "/home/starfleeet/.local/lib/python3.10/site-packages/sklearn/linear_model/_ransac.py:343: FutureWarning: `base_estimator` was renamed to `estimator` in version 1.1 and will be removed in 1.3.\n",
            "  warnings.warn(\n",
            "Sequence 02:  20%|█▉        | 10/51 [00:25<01:51,  2.73s/it]"
          ]
        },
        {
          "name": "stdout",
          "output_type": "stream",
          "text": [
            "scale:  1.083806770953106\n",
            "scale:  1.083806770953106\n",
            "device: cuda\n"
          ]
        },
        {
          "name": "stderr",
          "output_type": "stream",
          "text": [
            "/home/starfleeet/.local/lib/python3.10/site-packages/sklearn/linear_model/_ransac.py:343: FutureWarning: `base_estimator` was renamed to `estimator` in version 1.1 and will be removed in 1.3.\n",
            "  warnings.warn(\n",
            "Sequence 02:  22%|██▏       | 11/51 [00:28<01:50,  2.76s/it]"
          ]
        },
        {
          "name": "stdout",
          "output_type": "stream",
          "text": [
            "scale:  0.4272321698972736\n",
            "scale:  0.4272321698972736\n",
            "device: cuda\n"
          ]
        },
        {
          "name": "stderr",
          "output_type": "stream",
          "text": [
            "/home/starfleeet/.local/lib/python3.10/site-packages/sklearn/linear_model/_ransac.py:343: FutureWarning: `base_estimator` was renamed to `estimator` in version 1.1 and will be removed in 1.3.\n",
            "  warnings.warn(\n",
            "Sequence 02:  24%|██▎       | 12/51 [00:30<01:49,  2.81s/it]"
          ]
        },
        {
          "name": "stdout",
          "output_type": "stream",
          "text": [
            "scale:  0.4285432964233557\n",
            "scale:  0.4285432964233557\n",
            "device: cuda\n"
          ]
        },
        {
          "name": "stderr",
          "output_type": "stream",
          "text": [
            "/home/starfleeet/.local/lib/python3.10/site-packages/sklearn/linear_model/_ransac.py:343: FutureWarning: `base_estimator` was renamed to `estimator` in version 1.1 and will be removed in 1.3.\n",
            "  warnings.warn(\n",
            "Sequence 02:  25%|██▌       | 13/51 [00:33<01:46,  2.81s/it]"
          ]
        },
        {
          "name": "stdout",
          "output_type": "stream",
          "text": [
            "scale:  0.45282170367402946\n",
            "scale:  0.45282170367402946\n",
            "device: cuda\n"
          ]
        },
        {
          "name": "stderr",
          "output_type": "stream",
          "text": [
            "/home/starfleeet/.local/lib/python3.10/site-packages/sklearn/linear_model/_ransac.py:343: FutureWarning: `base_estimator` was renamed to `estimator` in version 1.1 and will be removed in 1.3.\n",
            "  warnings.warn(\n",
            "Sequence 02:  27%|██▋       | 14/51 [00:36<01:42,  2.78s/it]"
          ]
        },
        {
          "name": "stdout",
          "output_type": "stream",
          "text": [
            "scale:  0.4210112344004935\n",
            "scale:  0.4210112344004935\n",
            "device: cuda\n"
          ]
        },
        {
          "name": "stderr",
          "output_type": "stream",
          "text": [
            "/home/starfleeet/.local/lib/python3.10/site-packages/sklearn/linear_model/_ransac.py:343: FutureWarning: `base_estimator` was renamed to `estimator` in version 1.1 and will be removed in 1.3.\n",
            "  warnings.warn(\n",
            "Sequence 02:  29%|██▉       | 15/51 [00:39<01:40,  2.78s/it]"
          ]
        },
        {
          "name": "stdout",
          "output_type": "stream",
          "text": [
            "scale:  0.5580345749856614\n",
            "scale:  0.5580345749856614\n",
            "device: cuda\n"
          ]
        },
        {
          "name": "stderr",
          "output_type": "stream",
          "text": [
            "/home/starfleeet/.local/lib/python3.10/site-packages/sklearn/linear_model/_ransac.py:343: FutureWarning: `base_estimator` was renamed to `estimator` in version 1.1 and will be removed in 1.3.\n",
            "  warnings.warn(\n",
            "Sequence 02:  31%|███▏      | 16/51 [00:41<01:35,  2.74s/it]"
          ]
        },
        {
          "name": "stdout",
          "output_type": "stream",
          "text": [
            "scale:  1.185858316080431\n",
            "scale:  1.185858316080431\n",
            "device: cuda\n"
          ]
        },
        {
          "name": "stderr",
          "output_type": "stream",
          "text": [
            "/home/starfleeet/.local/lib/python3.10/site-packages/sklearn/linear_model/_ransac.py:343: FutureWarning: `base_estimator` was renamed to `estimator` in version 1.1 and will be removed in 1.3.\n",
            "  warnings.warn(\n",
            "Sequence 02:  33%|███▎      | 17/51 [00:44<01:28,  2.61s/it]"
          ]
        },
        {
          "name": "stdout",
          "output_type": "stream",
          "text": [
            "scale:  0.8852428883376638\n",
            "scale:  0.8852428883376638\n",
            "device: cuda\n"
          ]
        },
        {
          "name": "stderr",
          "output_type": "stream",
          "text": [
            "/home/starfleeet/.local/lib/python3.10/site-packages/sklearn/linear_model/_ransac.py:343: FutureWarning: `base_estimator` was renamed to `estimator` in version 1.1 and will be removed in 1.3.\n",
            "  warnings.warn(\n",
            "Sequence 02:  35%|███▌      | 18/51 [00:46<01:22,  2.50s/it]"
          ]
        },
        {
          "name": "stdout",
          "output_type": "stream",
          "text": [
            "scale:  0.43467117078789175\n",
            "scale:  0.43467117078789175\n",
            "device: cuda\n"
          ]
        },
        {
          "name": "stderr",
          "output_type": "stream",
          "text": [
            "/home/starfleeet/.local/lib/python3.10/site-packages/sklearn/linear_model/_ransac.py:343: FutureWarning: `base_estimator` was renamed to `estimator` in version 1.1 and will be removed in 1.3.\n",
            "  warnings.warn(\n",
            "Sequence 02:  37%|███▋      | 19/51 [00:49<01:21,  2.56s/it]"
          ]
        },
        {
          "name": "stdout",
          "output_type": "stream",
          "text": [
            "scale:  0.4543869346676169\n",
            "scale:  0.4543869346676169\n",
            "device: cuda\n"
          ]
        },
        {
          "name": "stderr",
          "output_type": "stream",
          "text": [
            "/home/starfleeet/.local/lib/python3.10/site-packages/sklearn/linear_model/_ransac.py:343: FutureWarning: `base_estimator` was renamed to `estimator` in version 1.1 and will be removed in 1.3.\n",
            "  warnings.warn(\n",
            "Sequence 02:  39%|███▉      | 20/51 [00:51<01:20,  2.60s/it]"
          ]
        },
        {
          "name": "stdout",
          "output_type": "stream",
          "text": [
            "scale:  0.6763505365434896\n",
            "scale:  0.6763505365434896\n",
            "device: cuda\n"
          ]
        },
        {
          "name": "stderr",
          "output_type": "stream",
          "text": [
            "/home/starfleeet/.local/lib/python3.10/site-packages/sklearn/linear_model/_ransac.py:343: FutureWarning: `base_estimator` was renamed to `estimator` in version 1.1 and will be removed in 1.3.\n",
            "  warnings.warn(\n",
            "Sequence 02:  41%|████      | 21/51 [00:54<01:19,  2.64s/it]"
          ]
        },
        {
          "name": "stdout",
          "output_type": "stream",
          "text": [
            "scale:  0.36318980466799594\n",
            "scale:  0.36318980466799594\n",
            "device: cuda\n"
          ]
        },
        {
          "name": "stderr",
          "output_type": "stream",
          "text": [
            "/home/starfleeet/.local/lib/python3.10/site-packages/sklearn/linear_model/_ransac.py:343: FutureWarning: `base_estimator` was renamed to `estimator` in version 1.1 and will be removed in 1.3.\n",
            "  warnings.warn(\n",
            "Sequence 02:  43%|████▎     | 22/51 [00:57<01:15,  2.60s/it]"
          ]
        },
        {
          "name": "stdout",
          "output_type": "stream",
          "text": [
            "scale:  0.3874614419924899\n",
            "scale:  0.3874614419924899\n",
            "device: cuda\n"
          ]
        },
        {
          "name": "stderr",
          "output_type": "stream",
          "text": [
            "/home/starfleeet/.local/lib/python3.10/site-packages/sklearn/linear_model/_ransac.py:343: FutureWarning: `base_estimator` was renamed to `estimator` in version 1.1 and will be removed in 1.3.\n",
            "  warnings.warn(\n",
            "Sequence 02:  45%|████▌     | 23/51 [00:59<01:08,  2.46s/it]"
          ]
        },
        {
          "name": "stdout",
          "output_type": "stream",
          "text": [
            "scale:  0.7167797246202107\n",
            "scale:  0.7167797246202107\n",
            "device: cuda\n"
          ]
        },
        {
          "name": "stderr",
          "output_type": "stream",
          "text": [
            "/home/starfleeet/.local/lib/python3.10/site-packages/sklearn/linear_model/_ransac.py:343: FutureWarning: `base_estimator` was renamed to `estimator` in version 1.1 and will be removed in 1.3.\n",
            "  warnings.warn(\n",
            "Sequence 02:  47%|████▋     | 24/51 [01:01<01:05,  2.44s/it]"
          ]
        },
        {
          "name": "stdout",
          "output_type": "stream",
          "text": [
            "scale:  0.4589853884125072\n",
            "scale:  0.4589853884125072\n",
            "device: cuda\n"
          ]
        },
        {
          "name": "stderr",
          "output_type": "stream",
          "text": [
            "/home/starfleeet/.local/lib/python3.10/site-packages/sklearn/linear_model/_ransac.py:343: FutureWarning: `base_estimator` was renamed to `estimator` in version 1.1 and will be removed in 1.3.\n",
            "  warnings.warn(\n",
            "Sequence 02:  49%|████▉     | 25/51 [01:04<01:05,  2.50s/it]"
          ]
        },
        {
          "name": "stdout",
          "output_type": "stream",
          "text": [
            "scale:  0.4518311469085151\n",
            "scale:  0.4518311469085151\n",
            "device: cuda\n"
          ]
        },
        {
          "name": "stderr",
          "output_type": "stream",
          "text": [
            "/home/starfleeet/.local/lib/python3.10/site-packages/sklearn/linear_model/_ransac.py:343: FutureWarning: `base_estimator` was renamed to `estimator` in version 1.1 and will be removed in 1.3.\n",
            "  warnings.warn(\n",
            "Sequence 02:  51%|█████     | 26/51 [01:07<01:05,  2.60s/it]"
          ]
        },
        {
          "name": "stdout",
          "output_type": "stream",
          "text": [
            "scale:  0.4165857751942758\n",
            "scale:  0.4165857751942758\n",
            "device: cuda\n"
          ]
        },
        {
          "name": "stderr",
          "output_type": "stream",
          "text": [
            "/home/starfleeet/.local/lib/python3.10/site-packages/sklearn/linear_model/_ransac.py:343: FutureWarning: `base_estimator` was renamed to `estimator` in version 1.1 and will be removed in 1.3.\n",
            "  warnings.warn(\n",
            "Sequence 02:  53%|█████▎    | 27/51 [01:09<01:03,  2.66s/it]"
          ]
        },
        {
          "name": "stdout",
          "output_type": "stream",
          "text": [
            "scale:  0.6115235115122271\n",
            "scale:  0.6115235115122271\n",
            "device: cuda\n"
          ]
        },
        {
          "name": "stderr",
          "output_type": "stream",
          "text": [
            "/home/starfleeet/.local/lib/python3.10/site-packages/sklearn/linear_model/_ransac.py:343: FutureWarning: `base_estimator` was renamed to `estimator` in version 1.1 and will be removed in 1.3.\n",
            "  warnings.warn(\n",
            "Sequence 02:  55%|█████▍    | 28/51 [01:12<01:01,  2.67s/it]"
          ]
        },
        {
          "name": "stdout",
          "output_type": "stream",
          "text": [
            "scale:  0.38061043228908054\n",
            "scale:  0.38061043228908054\n",
            "device: cuda\n"
          ]
        },
        {
          "name": "stderr",
          "output_type": "stream",
          "text": [
            "/home/starfleeet/.local/lib/python3.10/site-packages/sklearn/linear_model/_ransac.py:343: FutureWarning: `base_estimator` was renamed to `estimator` in version 1.1 and will be removed in 1.3.\n",
            "  warnings.warn(\n",
            "Sequence 02:  57%|█████▋    | 29/51 [01:15<00:59,  2.69s/it]"
          ]
        },
        {
          "name": "stdout",
          "output_type": "stream",
          "text": [
            "scale:  0.7246952502243156\n",
            "scale:  0.7246952502243156\n",
            "device: cuda\n"
          ]
        },
        {
          "name": "stderr",
          "output_type": "stream",
          "text": [
            "/home/starfleeet/.local/lib/python3.10/site-packages/sklearn/linear_model/_ransac.py:343: FutureWarning: `base_estimator` was renamed to `estimator` in version 1.1 and will be removed in 1.3.\n",
            "  warnings.warn(\n",
            "Sequence 02:  59%|█████▉    | 30/51 [01:17<00:54,  2.62s/it]"
          ]
        },
        {
          "name": "stdout",
          "output_type": "stream",
          "text": [
            "scale:  0.7446974604874306\n",
            "scale:  0.7446974604874306\n",
            "device: cuda\n"
          ]
        },
        {
          "name": "stderr",
          "output_type": "stream",
          "text": [
            "/home/starfleeet/.local/lib/python3.10/site-packages/sklearn/linear_model/_ransac.py:343: FutureWarning: `base_estimator` was renamed to `estimator` in version 1.1 and will be removed in 1.3.\n",
            "  warnings.warn(\n",
            "Sequence 02:  61%|██████    | 31/51 [01:20<00:53,  2.70s/it]"
          ]
        },
        {
          "name": "stdout",
          "output_type": "stream",
          "text": [
            "scale:  0.8087489774527484\n",
            "scale:  0.8087489774527484\n",
            "device: cuda\n"
          ]
        },
        {
          "name": "stderr",
          "output_type": "stream",
          "text": [
            "/home/starfleeet/.local/lib/python3.10/site-packages/sklearn/linear_model/_ransac.py:343: FutureWarning: `base_estimator` was renamed to `estimator` in version 1.1 and will be removed in 1.3.\n",
            "  warnings.warn(\n",
            "Sequence 02:  63%|██████▎   | 32/51 [01:23<00:52,  2.74s/it]"
          ]
        },
        {
          "name": "stdout",
          "output_type": "stream",
          "text": [
            "scale:  0.6082032780369424\n",
            "scale:  0.6082032780369424\n",
            "device: cuda\n"
          ]
        },
        {
          "name": "stderr",
          "output_type": "stream",
          "text": [
            "/home/starfleeet/.local/lib/python3.10/site-packages/sklearn/linear_model/_ransac.py:343: FutureWarning: `base_estimator` was renamed to `estimator` in version 1.1 and will be removed in 1.3.\n",
            "  warnings.warn(\n",
            "Sequence 02:  65%|██████▍   | 33/51 [01:26<00:50,  2.78s/it]"
          ]
        },
        {
          "name": "stdout",
          "output_type": "stream",
          "text": [
            "scale:  0.38961658371338087\n",
            "scale:  0.38961658371338087\n",
            "device: cuda\n"
          ]
        },
        {
          "name": "stderr",
          "output_type": "stream",
          "text": [
            "/home/starfleeet/.local/lib/python3.10/site-packages/sklearn/linear_model/_ransac.py:343: FutureWarning: `base_estimator` was renamed to `estimator` in version 1.1 and will be removed in 1.3.\n",
            "  warnings.warn(\n",
            "Sequence 02:  67%|██████▋   | 34/51 [01:29<00:47,  2.79s/it]"
          ]
        },
        {
          "name": "stdout",
          "output_type": "stream",
          "text": [
            "scale:  0.5740220844243256\n",
            "scale:  0.5740220844243256\n",
            "device: cuda\n"
          ]
        },
        {
          "name": "stderr",
          "output_type": "stream",
          "text": [
            "/home/starfleeet/.local/lib/python3.10/site-packages/sklearn/linear_model/_ransac.py:343: FutureWarning: `base_estimator` was renamed to `estimator` in version 1.1 and will be removed in 1.3.\n",
            "  warnings.warn(\n",
            "Sequence 02:  69%|██████▊   | 35/51 [01:31<00:44,  2.79s/it]"
          ]
        },
        {
          "name": "stdout",
          "output_type": "stream",
          "text": [
            "scale:  0.3635325332035949\n",
            "scale:  0.3635325332035949\n",
            "device: cuda\n"
          ]
        },
        {
          "name": "stderr",
          "output_type": "stream",
          "text": [
            "/home/starfleeet/.local/lib/python3.10/site-packages/sklearn/linear_model/_ransac.py:343: FutureWarning: `base_estimator` was renamed to `estimator` in version 1.1 and will be removed in 1.3.\n",
            "  warnings.warn(\n",
            "Sequence 02:  71%|███████   | 36/51 [01:34<00:41,  2.79s/it]"
          ]
        },
        {
          "name": "stdout",
          "output_type": "stream",
          "text": [
            "scale:  0.6165948513371033\n",
            "scale:  0.6165948513371033\n",
            "device: cuda\n"
          ]
        },
        {
          "name": "stderr",
          "output_type": "stream",
          "text": [
            "/home/starfleeet/.local/lib/python3.10/site-packages/sklearn/linear_model/_ransac.py:343: FutureWarning: `base_estimator` was renamed to `estimator` in version 1.1 and will be removed in 1.3.\n",
            "  warnings.warn(\n",
            "Sequence 02:  73%|███████▎  | 37/51 [01:37<00:38,  2.77s/it]"
          ]
        },
        {
          "name": "stdout",
          "output_type": "stream",
          "text": [
            "scale:  0.6925225592308594\n",
            "scale:  0.6925225592308594\n",
            "device: cuda\n"
          ]
        },
        {
          "name": "stderr",
          "output_type": "stream",
          "text": [
            "/home/starfleeet/.local/lib/python3.10/site-packages/sklearn/linear_model/_ransac.py:343: FutureWarning: `base_estimator` was renamed to `estimator` in version 1.1 and will be removed in 1.3.\n",
            "  warnings.warn(\n",
            "Sequence 02:  75%|███████▍  | 38/51 [01:40<00:35,  2.73s/it]"
          ]
        },
        {
          "name": "stdout",
          "output_type": "stream",
          "text": [
            "scale:  0.5474889766183767\n",
            "scale:  0.5474889766183767\n",
            "device: cuda\n"
          ]
        },
        {
          "name": "stderr",
          "output_type": "stream",
          "text": [
            "/home/starfleeet/.local/lib/python3.10/site-packages/sklearn/linear_model/_ransac.py:343: FutureWarning: `base_estimator` was renamed to `estimator` in version 1.1 and will be removed in 1.3.\n",
            "  warnings.warn(\n",
            "Sequence 02:  76%|███████▋  | 39/51 [01:42<00:32,  2.73s/it]"
          ]
        },
        {
          "name": "stdout",
          "output_type": "stream",
          "text": [
            "scale:  0.9250524572056709\n",
            "scale:  0.9250524572056709\n",
            "device: cuda\n"
          ]
        },
        {
          "name": "stderr",
          "output_type": "stream",
          "text": [
            "/home/starfleeet/.local/lib/python3.10/site-packages/sklearn/linear_model/_ransac.py:343: FutureWarning: `base_estimator` was renamed to `estimator` in version 1.1 and will be removed in 1.3.\n",
            "  warnings.warn(\n",
            "Sequence 02:  78%|███████▊  | 40/51 [01:45<00:29,  2.72s/it]"
          ]
        },
        {
          "name": "stdout",
          "output_type": "stream",
          "text": [
            "scale:  0.7270963942476989\n",
            "scale:  0.7270963942476989\n",
            "device: cuda\n"
          ]
        },
        {
          "name": "stderr",
          "output_type": "stream",
          "text": [
            "/home/starfleeet/.local/lib/python3.10/site-packages/sklearn/linear_model/_ransac.py:343: FutureWarning: `base_estimator` was renamed to `estimator` in version 1.1 and will be removed in 1.3.\n",
            "  warnings.warn(\n",
            "Sequence 02:  80%|████████  | 41/51 [01:48<00:27,  2.72s/it]"
          ]
        },
        {
          "name": "stdout",
          "output_type": "stream",
          "text": [
            "scale:  0.40324018698941366\n",
            "scale:  0.40324018698941366\n",
            "device: cuda\n"
          ]
        },
        {
          "name": "stderr",
          "output_type": "stream",
          "text": [
            "/home/starfleeet/.local/lib/python3.10/site-packages/sklearn/linear_model/_ransac.py:343: FutureWarning: `base_estimator` was renamed to `estimator` in version 1.1 and will be removed in 1.3.\n",
            "  warnings.warn(\n",
            "Sequence 02:  82%|████████▏ | 42/51 [01:50<00:24,  2.70s/it]"
          ]
        },
        {
          "name": "stdout",
          "output_type": "stream",
          "text": [
            "scale:  0.5881763161244954\n",
            "scale:  0.5881763161244954\n",
            "device: cuda\n"
          ]
        },
        {
          "name": "stderr",
          "output_type": "stream",
          "text": [
            "/home/starfleeet/.local/lib/python3.10/site-packages/sklearn/linear_model/_ransac.py:343: FutureWarning: `base_estimator` was renamed to `estimator` in version 1.1 and will be removed in 1.3.\n",
            "  warnings.warn(\n",
            "Sequence 02:  84%|████████▍ | 43/51 [01:53<00:21,  2.69s/it]"
          ]
        },
        {
          "name": "stdout",
          "output_type": "stream",
          "text": [
            "scale:  0.48769364349469013\n",
            "scale:  0.48769364349469013\n",
            "device: cuda\n"
          ]
        },
        {
          "name": "stderr",
          "output_type": "stream",
          "text": [
            "/home/starfleeet/.local/lib/python3.10/site-packages/sklearn/linear_model/_ransac.py:343: FutureWarning: `base_estimator` was renamed to `estimator` in version 1.1 and will be removed in 1.3.\n",
            "  warnings.warn(\n",
            "Sequence 02:  86%|████████▋ | 44/51 [01:56<00:18,  2.64s/it]"
          ]
        },
        {
          "name": "stdout",
          "output_type": "stream",
          "text": [
            "scale:  0.8628615988418804\n",
            "scale:  0.8628615988418804\n",
            "device: cuda\n"
          ]
        },
        {
          "name": "stderr",
          "output_type": "stream",
          "text": [
            "/home/starfleeet/.local/lib/python3.10/site-packages/sklearn/linear_model/_ransac.py:343: FutureWarning: `base_estimator` was renamed to `estimator` in version 1.1 and will be removed in 1.3.\n",
            "  warnings.warn(\n",
            "Sequence 02:  88%|████████▊ | 45/51 [01:58<00:15,  2.62s/it]"
          ]
        },
        {
          "name": "stdout",
          "output_type": "stream",
          "text": [
            "scale:  0.4711883006742948\n",
            "scale:  0.4711883006742948\n",
            "device: cuda\n"
          ]
        },
        {
          "name": "stderr",
          "output_type": "stream",
          "text": [
            "/home/starfleeet/.local/lib/python3.10/site-packages/sklearn/linear_model/_ransac.py:343: FutureWarning: `base_estimator` was renamed to `estimator` in version 1.1 and will be removed in 1.3.\n",
            "  warnings.warn(\n",
            "Sequence 02:  90%|█████████ | 46/51 [02:01<00:12,  2.55s/it]"
          ]
        },
        {
          "name": "stdout",
          "output_type": "stream",
          "text": [
            "scale:  0.44221929723302655\n",
            "scale:  0.44221929723302655\n",
            "device: cuda\n"
          ]
        },
        {
          "name": "stderr",
          "output_type": "stream",
          "text": [
            "/home/starfleeet/.local/lib/python3.10/site-packages/sklearn/linear_model/_ransac.py:343: FutureWarning: `base_estimator` was renamed to `estimator` in version 1.1 and will be removed in 1.3.\n",
            "  warnings.warn(\n",
            "Sequence 02:  92%|█████████▏| 47/51 [02:03<00:10,  2.56s/it]"
          ]
        },
        {
          "name": "stdout",
          "output_type": "stream",
          "text": [
            "scale:  0.7757119789696448\n",
            "scale:  0.7757119789696448\n",
            "device: cuda\n"
          ]
        },
        {
          "name": "stderr",
          "output_type": "stream",
          "text": [
            "/home/starfleeet/.local/lib/python3.10/site-packages/sklearn/linear_model/_ransac.py:343: FutureWarning: `base_estimator` was renamed to `estimator` in version 1.1 and will be removed in 1.3.\n",
            "  warnings.warn(\n",
            "Sequence 02:  94%|█████████▍| 48/51 [02:06<00:07,  2.59s/it]"
          ]
        },
        {
          "name": "stdout",
          "output_type": "stream",
          "text": [
            "scale:  0.8015178122857908\n",
            "scale:  0.8015178122857908\n",
            "device: cuda\n"
          ]
        },
        {
          "name": "stderr",
          "output_type": "stream",
          "text": [
            "/home/starfleeet/.local/lib/python3.10/site-packages/sklearn/linear_model/_ransac.py:343: FutureWarning: `base_estimator` was renamed to `estimator` in version 1.1 and will be removed in 1.3.\n",
            "  warnings.warn(\n",
            "Sequence 02:  96%|█████████▌| 49/51 [02:08<00:05,  2.60s/it]"
          ]
        },
        {
          "name": "stdout",
          "output_type": "stream",
          "text": [
            "scale:  0.7555094945814405\n",
            "scale:  0.7555094945814405\n",
            "device: cuda\n"
          ]
        },
        {
          "name": "stderr",
          "output_type": "stream",
          "text": [
            "/home/starfleeet/.local/lib/python3.10/site-packages/sklearn/linear_model/_ransac.py:343: FutureWarning: `base_estimator` was renamed to `estimator` in version 1.1 and will be removed in 1.3.\n",
            "  warnings.warn(\n",
            "Sequence 02:  98%|█████████▊| 50/51 [02:13<00:03,  3.23s/it]"
          ]
        },
        {
          "name": "stdout",
          "output_type": "stream",
          "text": [
            "scale:  0.9093136682001219\n",
            "scale:  0.9093136682001219\n",
            "device: cuda\n"
          ]
        },
        {
          "name": "stderr",
          "output_type": "stream",
          "text": [
            "/home/starfleeet/.local/lib/python3.10/site-packages/sklearn/linear_model/_ransac.py:343: FutureWarning: `base_estimator` was renamed to `estimator` in version 1.1 and will be removed in 1.3.\n",
            "  warnings.warn(\n",
            "Sequence 02: 100%|██████████| 51/51 [02:16<00:00,  2.68s/it]\n"
          ]
        },
        {
          "name": "stdout",
          "output_type": "stream",
          "text": [
            "scale:  0.8657300265557551\n",
            "scale:  0.8657300265557551\n"
          ]
        },
        {
          "data": {
            "image/png": "[encoded data removed]",
            "text/plain": [
              "<Figure size 640x480 with 1 Axes>"
            ]
          },
          "metadata": {},
          "output_type": "display_data"
        }
      ],
      "source": [
        "# Set random seed\n",
        "np.random.seed(2)\n",
        "torch.cuda.manual_seed(2)\n",
        "torch.manual_seed(2)\n",
        "\n",
        "\n",
        "\n",
        "# Create KITTI dataloader\n",
        "sequence=\"02\"\n",
        "dataloader = KITTI(\n",
        "    data_path=\"/home/starfleeet/Documents/project/mvo_dataset/dataset/sequences\",\n",
        "    pose_path=\"/home/starfleeet/Documents/project/mvo_dataset/dataset/poses\",\n",
        "    sequence=sequence,\n",
        ")\n",
        "dataloader.read_intrinsics_param()\n",
        "\n",
        "\n",
        "\n",
        "display_traj = False\n",
        "optimize=True\n",
        "\n",
        "# Create camera model object\n",
        "cam = CameraModel(params=dataloader.cam_params)\n",
        "\n",
        "# Create network model to estimate depth\n",
        "# depth_model = DepthModel(model_type=\"dpt_hybrid_kitti\")\n",
        "\n",
        "\n",
        "\n",
        "# Initialize VO with camera model and depth model\n",
        "vo = VisualOdometry(cam, depth_model=None)\n",
        "\n",
        "# Initialize graph trajectory\n",
        "trajectory = 255 + np.zeros((700, 700, 3), dtype=np.uint8)\n",
        "\n",
        "# Initialize lists\n",
        "estimated_trajectory = []\n",
        "gt_trajectory = []\n",
        "poses = []\n",
        "\n",
        "for _ in tqdm(\n",
        "    range((len(dataloader)//90)), desc=\"Sequence {}: \".format(sequence)):\n",
        "    # Get frame, ground truth pose and frame_id from dataset\n",
        "    frame, pose, frame_id = dataloader.get_next_data()\n",
        "\n",
        "    # Apply VO motion estimation algorithm\n",
        "    vo.update(frame, frame_id)\n",
        "\n",
        "    # Get estimated translation\n",
        "    estimated_t = vo.t.flatten()\n",
        "    [x, y, z] = estimated_t\n",
        "    [x_true, y_true, z_true] = [pose[0], pose[1], pose[2]]\n",
        "\n",
        "    # Store all estimated poses (4x4)\n",
        "    poses.append(vo.pose)\n",
        "\n",
        "    # Store trajectories\n",
        "    estimated_trajectory.append(estimated_t)\n",
        "    gt_trajectory.append(pose)\n",
        "\n",
        "    # Draw trajectory\n",
        "    if display_traj:\n",
        "        cv2.circle(\n",
        "            trajectory, (int(x) + 350, int(-z) + 610),\n",
        "            1, (255, 0, 0),\n",
        "            1)\n",
        "        cv2.circle(\n",
        "            trajectory, (int(x_true) + 350, int(-z_true) + 610),\n",
        "            1, (0, 0, 255),\n",
        "            2)\n",
        "        cv2.rectangle(trajectory, (10, 20), (600, 81),\n",
        "                      (255, 255, 255), -1)  # background to display MSE\n",
        "        cv2.putText(trajectory, \"Ground truth (RED)\", (20, 40),\n",
        "                    cv2.FONT_HERSHEY_DUPLEX, 0.5, (0, 0, 255), 1, 8)\n",
        "        cv2.putText(trajectory, \"Estimated (BLUE)\", (20, 60),\n",
        "                    cv2.FONT_HERSHEY_DUPLEX, 0.5, (255, 0, 0), 1, 8)\n",
        "        # compute and display distance\n",
        "        MSE = np.linalg.norm(np.array([x, z]) - np.array([x_true, z_true]))\n",
        "        cv2.putText(trajectory, \"Frobenius Norm: {:.2f}\".format(\n",
        "            MSE), (20, 80), cv2.FONT_HERSHEY_DUPLEX, 0.5, (0, 0, 0), 1, 8)\n",
        "\n",
        "        cv2.imshow(\"Camera\", frame)\n",
        "        cv2.imshow(\"Visual Odometry\", trajectory)\n",
        "        if cv2.waitKey(1) & 0xFF == ord('q'):\n",
        "            break\n",
        "\n",
        "# Save predicted poses\n",
        "save_trajectory(poses, sequence, save_dir=\"results\")\n",
        "\n",
        "# Save image map\n",
        "if display_traj:\n",
        "    cv2.imshow(\"results/maps/map_{}.png\".format(sequence), trajectory)\n",
        "\n",
        "# Plot estimated trajectory\n",
        "plot_trajectory(gt_trajectory, estimated_trajectory, save_name=\"results/plots/plot_{}.png\".format(sequence))"
      ]
    },
    {
      "attachments": {},
      "cell_type": "markdown",
      "metadata": {
        "id": "aBYtWG1Kw2YQ"
      },
      "source": [
        "### Evaluation and quantitative comparision"
      ]
    },
    {
      "cell_type": "code",
      "execution_count": null,
      "metadata": {
        "id": "m3hO9yYgw9o0"
      },
      "outputs": [],
      "source": []
    }
  ],
  "metadata": {
    "accelerator": "GPU",
    "colab": {
      "gpuType": "T4",
      "provenance": []
    },
    "gpuClass": "standard",
    "kernelspec": {
      "display_name": "Python 3",
      "name": "python3"
    },
    "language_info": {
      "codemirror_mode": {
        "name": "ipython",
        "version": 3
      },
      "file_extension": ".py",
      "mimetype": "text/x-python",
      "name": "python",
      "nbconvert_exporter": "python",
      "pygments_lexer": "ipython3",
      "version": "3.10.9"
    }
  },
  "nbformat": 4,
  "nbformat_minor": 0
}
